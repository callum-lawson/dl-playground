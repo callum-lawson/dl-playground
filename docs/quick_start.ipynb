{
  "cells": [
    {
      "cell_type": "markdown",
      "id": "6eea21b3",
      "metadata": {
        "id": "6eea21b3"
      },
      "source": [
        "[![Open in Colab](https://colab.research.google.com/assets/colab-badge.svg)](https://colab.research.google.com/github/google/flax/blob/main/docs/quick_start.ipynb)\n",
        "[![Open On GitHub](https://img.shields.io/badge/Open-on%20GitHub-blue?logo=GitHub)](https://github.com/google/flax/blob/main/docs/quick_start.ipynb)\n",
        "\n",
        "# Quick start\n",
        "\n",
        "Welcome to Flax!\n",
        "\n",
        "Flax is an open source Python neural network library built on top of [JAX](https://github.com/jax-ml/jax). This tutorial demonstrates how to construct a simple convolutional neural\n",
        "network (CNN) using the [Flax](https://flax.readthedocs.io) Linen API and train\n",
        "the network for image classification on the MNIST dataset."
      ]
    },
    {
      "cell_type": "markdown",
      "id": "nwJWKIhdwxDo",
      "metadata": {
        "id": "nwJWKIhdwxDo"
      },
      "source": [
        "## 1. Install Flax"
      ]
    },
    {
      "cell_type": "code",
      "execution_count": 3,
      "id": "bb81587e",
      "metadata": {
        "tags": [
          "skip-execution"
        ],
        "id": "bb81587e"
      },
      "outputs": [],
      "source": [
        "!pip install -q flax>=0.7.5"
      ]
    },
    {
      "cell_type": "markdown",
      "id": "b529fbef",
      "metadata": {
        "id": "b529fbef"
      },
      "source": [
        "## 2. Loading data\n",
        "\n",
        "Flax can use any\n",
        "data-loading pipeline and this example demonstrates how to utilize TFDS. Define a function that loads and prepares the MNIST dataset and converts the\n",
        "samples to floating-point numbers."
      ]
    },
    {
      "cell_type": "code",
      "execution_count": 4,
      "id": "bRlrHqZVXZvk",
      "metadata": {
        "id": "bRlrHqZVXZvk"
      },
      "outputs": [],
      "source": [
        "import tensorflow_datasets as tfds  # TFDS for MNIST\n",
        "import tensorflow as tf             # TensorFlow operations\n",
        "\n",
        "def get_datasets(num_epochs, batch_size):\n",
        "  \"\"\"Load MNIST train and test datasets into memory.\"\"\"\n",
        "  train_ds = tfds.load('mnist', split='train')\n",
        "  test_ds = tfds.load('mnist', split='test')\n",
        "\n",
        "  train_ds = train_ds.map(lambda sample: {'image': tf.cast(sample['image'],\n",
        "                                                           tf.float32) / 255.,\n",
        "                                          'label': sample['label']}) # normalize train set\n",
        "  test_ds = test_ds.map(lambda sample: {'image': tf.cast(sample['image'],\n",
        "                                                         tf.float32) / 255.,\n",
        "                                        'label': sample['label']}) # normalize test set\n",
        "\n",
        "  train_ds = train_ds.repeat(num_epochs).shuffle(1024) # create shuffled dataset by allocating a buffer size of 1024 to randomly draw elements from\n",
        "  train_ds = train_ds.batch(batch_size, drop_remainder=True).prefetch(1) # group into batches of batch_size and skip incomplete batch, prefetch the next sample to improve latency\n",
        "  test_ds = test_ds.shuffle(1024) # create shuffled dataset by allocating a buffer size of 1024 to randomly draw elements from\n",
        "  test_ds = test_ds.batch(batch_size, drop_remainder=True).prefetch(1) # group into batches of batch_size and skip incomplete batch, prefetch the next sample to improve latency\n",
        "\n",
        "  return train_ds, test_ds"
      ]
    },
    {
      "cell_type": "markdown",
      "id": "7057395a",
      "metadata": {
        "id": "7057395a"
      },
      "source": [
        "## 3. Define network\n",
        "\n",
        "Create a convolutional neural network with the Linen API by subclassing\n",
        "[Flax Module](https://flax.readthedocs.io/en/latest/api_reference/flax.linen/module.html).\n",
        "Because the architecture in this example is relatively simple—you're just\n",
        "stacking layers—you can define the inlined submodules directly within the\n",
        "`__call__` method and wrap it with the\n",
        "[`@compact`](https://flax.readthedocs.io/en/latest/api_reference/flax.linen/decorators.html#flax.linen.compact)\n",
        "decorator. To learn more about the Flax Linen `@compact` decorator, refer to the [`setup` vs `compact`](https://flax.readthedocs.io/en/latest/guides/setup_or_nncompact.html) guide."
      ]
    },
    {
      "cell_type": "code",
      "execution_count": 5,
      "id": "cbc079cd",
      "metadata": {
        "id": "cbc079cd"
      },
      "outputs": [],
      "source": [
        "from flax import linen as nn  # Linen API\n",
        "\n",
        "class CNN(nn.Module):\n",
        "  \"\"\"A simple CNN model.\"\"\"\n",
        "\n",
        "  @nn.compact\n",
        "  def __call__(self, x):\n",
        "    x = nn.Conv(features=32, kernel_size=(3, 3))(x)\n",
        "    x = nn.relu(x)\n",
        "    x = nn.avg_pool(x, window_shape=(2, 2), strides=(2, 2))\n",
        "    x = nn.Conv(features=64, kernel_size=(3, 3))(x)\n",
        "    x = nn.relu(x)\n",
        "    x = nn.avg_pool(x, window_shape=(2, 2), strides=(2, 2))\n",
        "    x = x.reshape((x.shape[0], -1))  # flatten\n",
        "    x = nn.Dense(features=256)(x)\n",
        "    x = nn.relu(x)\n",
        "    x = nn.Dense(features=10)(x)\n",
        "    return x"
      ]
    },
    {
      "cell_type": "markdown",
      "id": "hy7iRu7_zlx-",
      "metadata": {
        "id": "hy7iRu7_zlx-"
      },
      "source": [
        "### View model layers\n",
        "\n",
        "Create an instance of the Flax Module and use the [`Module.tabulate`](https://flax.readthedocs.io/en/latest/api_reference/flax.linen/module.html#flax.linen.Module.tabulate) method to visualize a table of the model layers by passing an RNG key and template image input."
      ]
    },
    {
      "cell_type": "code",
      "execution_count": 6,
      "id": "lDHfog81zLQa",
      "metadata": {
        "outputId": "80644a93-0f88-4f37-f332-d242db768f66",
        "id": "lDHfog81zLQa",
        "colab": {
          "base_uri": "https://localhost:8080/"
        }
      },
      "outputs": [
        {
          "output_type": "stream",
          "name": "stdout",
          "text": [
            "\n",
            "\u001b[3m                                  CNN Summary                                   \u001b[0m\n",
            "┏━━━━━━━━━┳━━━━━━━━┳━━━━━━━━━━━━┳━━━━━━━━━━━━━┳━━━━━━━┳━━━━━━━━━━━┳━━━━━━━━━━━━┓\n",
            "┃\u001b[1m \u001b[0m\u001b[1mpath   \u001b[0m\u001b[1m \u001b[0m┃\u001b[1m \u001b[0m\u001b[1mmodule\u001b[0m\u001b[1m \u001b[0m┃\u001b[1m \u001b[0m\u001b[1minputs    \u001b[0m\u001b[1m \u001b[0m┃\u001b[1m \u001b[0m\u001b[1moutputs    \u001b[0m\u001b[1m \u001b[0m┃\u001b[1m \u001b[0m\u001b[1mflops\u001b[0m\u001b[1m \u001b[0m┃\u001b[1m \u001b[0m\u001b[1mvjp_flops\u001b[0m\u001b[1m \u001b[0m┃\u001b[1m \u001b[0m\u001b[1mparams    \u001b[0m\u001b[1m \u001b[0m┃\n",
            "┡━━━━━━━━━╇━━━━━━━━╇━━━━━━━━━━━━╇━━━━━━━━━━━━━╇━━━━━━━╇━━━━━━━━━━━╇━━━━━━━━━━━━┩\n",
            "│         │ CNN    │ \u001b[2mfloat32\u001b[0m[1… │ \u001b[2mfloat32\u001b[0m[1,… │ 0     │ 0         │            │\n",
            "├─────────┼────────┼────────────┼─────────────┼───────┼───────────┼────────────┤\n",
            "│ Conv_0  │ Conv   │ \u001b[2mfloat32\u001b[0m[1… │ \u001b[2mfloat32\u001b[0m[1,… │ 0     │ 0         │ bias:      │\n",
            "│         │        │            │             │       │           │ \u001b[2mfloat32\u001b[0m[3… │\n",
            "│         │        │            │             │       │           │ kernel:    │\n",
            "│         │        │            │             │       │           │ \u001b[2mfloat32\u001b[0m[3… │\n",
            "│         │        │            │             │       │           │            │\n",
            "│         │        │            │             │       │           │ \u001b[1m320 \u001b[0m\u001b[1;2m(1.3 \u001b[0m  │\n",
            "│         │        │            │             │       │           │ \u001b[1;2mKB)\u001b[0m        │\n",
            "├─────────┼────────┼────────────┼─────────────┼───────┼───────────┼────────────┤\n",
            "│ Conv_1  │ Conv   │ \u001b[2mfloat32\u001b[0m[1… │ \u001b[2mfloat32\u001b[0m[1,… │ 0     │ 0         │ bias:      │\n",
            "│         │        │            │             │       │           │ \u001b[2mfloat32\u001b[0m[6… │\n",
            "│         │        │            │             │       │           │ kernel:    │\n",
            "│         │        │            │             │       │           │ \u001b[2mfloat32\u001b[0m[3… │\n",
            "│         │        │            │             │       │           │            │\n",
            "│         │        │            │             │       │           │ \u001b[1m18,496 \u001b[0m    │\n",
            "│         │        │            │             │       │           │ \u001b[1;2m(74.0 KB)\u001b[0m  │\n",
            "├─────────┼────────┼────────────┼─────────────┼───────┼───────────┼────────────┤\n",
            "│ Dense_0 │ Dense  │ \u001b[2mfloat32\u001b[0m[1… │ \u001b[2mfloat32\u001b[0m[1,… │ 0     │ 0         │ bias:      │\n",
            "│         │        │            │             │       │           │ \u001b[2mfloat32\u001b[0m[2… │\n",
            "│         │        │            │             │       │           │ kernel:    │\n",
            "│         │        │            │             │       │           │ \u001b[2mfloat32\u001b[0m[3… │\n",
            "│         │        │            │             │       │           │            │\n",
            "│         │        │            │             │       │           │ \u001b[1m803,072 \u001b[0m   │\n",
            "│         │        │            │             │       │           │ \u001b[1;2m(3.2 MB)\u001b[0m   │\n",
            "├─────────┼────────┼────────────┼─────────────┼───────┼───────────┼────────────┤\n",
            "│ Dense_1 │ Dense  │ \u001b[2mfloat32\u001b[0m[1… │ \u001b[2mfloat32\u001b[0m[1,… │ 0     │ 0         │ bias:      │\n",
            "│         │        │            │             │       │           │ \u001b[2mfloat32\u001b[0m[1… │\n",
            "│         │        │            │             │       │           │ kernel:    │\n",
            "│         │        │            │             │       │           │ \u001b[2mfloat32\u001b[0m[2… │\n",
            "│         │        │            │             │       │           │            │\n",
            "│         │        │            │             │       │           │ \u001b[1m2,570 \u001b[0m     │\n",
            "│         │        │            │             │       │           │ \u001b[1;2m(10.3 KB)\u001b[0m  │\n",
            "├─────────┼────────┼────────────┼─────────────┼───────┼───────────┼────────────┤\n",
            "│\u001b[1m \u001b[0m\u001b[1m       \u001b[0m\u001b[1m \u001b[0m│\u001b[1m \u001b[0m\u001b[1m      \u001b[0m\u001b[1m \u001b[0m│\u001b[1m \u001b[0m\u001b[1m          \u001b[0m\u001b[1m \u001b[0m│\u001b[1m \u001b[0m\u001b[1m           \u001b[0m\u001b[1m \u001b[0m│\u001b[1m \u001b[0m\u001b[1m     \u001b[0m\u001b[1m \u001b[0m│\u001b[1m \u001b[0m\u001b[1m    Total\u001b[0m\u001b[1m \u001b[0m│\u001b[1m \u001b[0m\u001b[1m824,458   \u001b[0m\u001b[1m \u001b[0m│\n",
            "│\u001b[1m         \u001b[0m│\u001b[1m        \u001b[0m│\u001b[1m            \u001b[0m│\u001b[1m             \u001b[0m│\u001b[1m       \u001b[0m│\u001b[1m           \u001b[0m│\u001b[1m \u001b[0m\u001b[1;2m(3.3 MB)\u001b[0m\u001b[1m  \u001b[0m\u001b[1m \u001b[0m│\n",
            "└─────────┴────────┴────────────┴─────────────┴───────┴───────────┴────────────┘\n",
            "\u001b[1m                                                                                \u001b[0m\n",
            "\u001b[1m                       Total Parameters: 824,458 \u001b[0m\u001b[1;2m(3.3 MB)\u001b[0m\u001b[1m                       \u001b[0m\n",
            "\n",
            "\n"
          ]
        }
      ],
      "source": [
        "import jax\n",
        "import jax.numpy as jnp  # JAX NumPy\n",
        "\n",
        "cnn = CNN()\n",
        "print(cnn.tabulate(jax.random.key(0), jnp.ones((1, 28, 28, 1)),\n",
        "                   compute_flops=True, compute_vjp_flops=True))"
      ]
    },
    {
      "cell_type": "markdown",
      "id": "4b5ac16e",
      "metadata": {
        "id": "4b5ac16e"
      },
      "source": [
        "## 4. Create a `TrainState`\n",
        "\n",
        "A common pattern in Flax is to create a single dataclass that represents the\n",
        "entire training state, including step number, parameters, and optimizer state.\n",
        "\n",
        "Because this is such a common pattern, Flax provides the class\n",
        "[`flax.training.train_state.TrainState`](https://flax.readthedocs.io/en/latest/flax.training.html#train-state)\n",
        "that serves most basic usecases."
      ]
    },
    {
      "cell_type": "code",
      "execution_count": 7,
      "id": "qXr7JDpIxGNZ",
      "metadata": {
        "id": "qXr7JDpIxGNZ",
        "outputId": "f03164b2-0e60-4731-b8c5-3bd5e34ac173",
        "colab": {
          "base_uri": "https://localhost:8080/"
        }
      },
      "outputs": [
        {
          "output_type": "stream",
          "name": "stdout",
          "text": [
            "\u001b[?25l   \u001b[90m━━━━━━━━━━━━━━━━━━━━━━━━━━━━━━━━━━━━━━━━\u001b[0m \u001b[32m0.0/101.8 kB\u001b[0m \u001b[31m?\u001b[0m eta \u001b[36m-:--:--\u001b[0m\r\u001b[2K   \u001b[90m━━━━━━━━━━━━━━━━━━━━━━━━━━━━━━━━━━━━━━━━\u001b[0m \u001b[32m101.8/101.8 kB\u001b[0m \u001b[31m7.1 MB/s\u001b[0m eta \u001b[36m0:00:00\u001b[0m\n",
            "\u001b[?25h\u001b[?25l   \u001b[90m━━━━━━━━━━━━━━━━━━━━━━━━━━━━━━━━━━━━━━━━\u001b[0m \u001b[32m0.0/76.7 kB\u001b[0m \u001b[31m?\u001b[0m eta \u001b[36m-:--:--\u001b[0m\r\u001b[2K   \u001b[90m━━━━━━━━━━━━━━━━━━━━━━━━━━━━━━━━━━━━━━━━\u001b[0m \u001b[32m76.7/76.7 kB\u001b[0m \u001b[31m6.3 MB/s\u001b[0m eta \u001b[36m0:00:00\u001b[0m\n",
            "\u001b[?25h"
          ]
        }
      ],
      "source": [
        "!pip install -q clu"
      ]
    },
    {
      "cell_type": "code",
      "execution_count": 8,
      "id": "CJDaJNijyOji",
      "metadata": {
        "id": "CJDaJNijyOji"
      },
      "outputs": [],
      "source": [
        "from clu import metrics\n",
        "from flax.training import train_state  # Useful dataclass to keep train state\n",
        "from flax import struct                # Flax dataclasses\n",
        "import optax                           # Common loss functions and optimizers"
      ]
    },
    {
      "cell_type": "markdown",
      "id": "8b86b5f1",
      "metadata": {
        "id": "8b86b5f1"
      },
      "source": [
        "We will be using the `clu` library for computing metrics. For more information on `clu`, refer to the [repo](https://github.com/google/CommonLoopUtils) and [notebook](https://colab.research.google.com/github/google/CommonLoopUtils/blob/master/clu_synopsis.ipynb#scrollTo=ueom-uBWLbeQ)."
      ]
    },
    {
      "cell_type": "code",
      "execution_count": 9,
      "id": "7W0qf7FC9uG5",
      "metadata": {
        "id": "7W0qf7FC9uG5"
      },
      "outputs": [],
      "source": [
        "@struct.dataclass\n",
        "class Metrics(metrics.Collection):\n",
        "  accuracy: metrics.Accuracy\n",
        "  loss: metrics.Average.from_output('loss')"
      ]
    },
    {
      "cell_type": "markdown",
      "id": "f3ce5e4c",
      "metadata": {
        "id": "f3ce5e4c"
      },
      "source": [
        "You can then subclass `train_state.TrainState` so that it also contains metrics. This has the advantage that we only need\n",
        "to pass around a single argument to functions like `train_step()` (see below) to calculate the loss, update the parameters and compute the metrics all at once."
      ]
    },
    {
      "cell_type": "code",
      "execution_count": 10,
      "id": "e0102447",
      "metadata": {
        "id": "e0102447"
      },
      "outputs": [],
      "source": [
        "class TrainState(train_state.TrainState):\n",
        "  metrics: Metrics\n",
        "\n",
        "def create_train_state(module, rng, learning_rate, momentum):\n",
        "  \"\"\"Creates an initial `TrainState`.\"\"\"\n",
        "  params = module.init(rng, jnp.ones([1, 28, 28, 1]))['params'] # initialize parameters by passing a template image\n",
        "  tx = optax.sgd(learning_rate, momentum)\n",
        "  return TrainState.create(\n",
        "      apply_fn=module.apply, params=params, tx=tx,\n",
        "      metrics=Metrics.empty())"
      ]
    },
    {
      "cell_type": "markdown",
      "id": "a15de484",
      "metadata": {
        "id": "a15de484"
      },
      "source": [
        "## 5. Training step\n",
        "\n",
        "A function that:\n",
        "\n",
        "- Evaluates the neural network given the parameters and a batch of input images\n",
        "  with [`TrainState.apply_fn`](https://flax.readthedocs.io/en/latest/api_reference/flax.training.html#flax.training.train_state.TrainState) (which contains the [`Module.apply`](https://flax.readthedocs.io/en/latest/api_reference/flax.linen/module.html#flax.linen.Module.apply)\n",
        "  method (forward pass)).\n",
        "- Computes the cross entropy loss, using the predefined [`optax.softmax_cross_entropy_with_integer_labels()`](https://optax.readthedocs.io/en/latest/api.html#optax.softmax_cross_entropy_with_integer_labels). Note that this function expects integer labels, so there is no need to convert labels to onehot encoding.\n",
        "- Evaluates the gradient of the loss function using\n",
        "  [`jax.grad`](https://jax.readthedocs.io/en/latest/jax.html#jax.grad).\n",
        "- Applies a\n",
        "  [pytree](https://jax.readthedocs.io/en/latest/pytrees.html#pytrees-and-jax-functions)\n",
        "  of gradients to the optimizer to update the model's parameters.\n",
        "\n",
        "Use JAX's [@jit](https://jax.readthedocs.io/en/latest/jax.html#jax.jit)\n",
        "decorator to trace the entire `train_step` function and just-in-time compile\n",
        "it with [XLA](https://www.tensorflow.org/xla) into fused device operations\n",
        "that run faster and more efficiently on hardware accelerators."
      ]
    },
    {
      "cell_type": "code",
      "execution_count": 11,
      "id": "9b0af486",
      "metadata": {
        "id": "9b0af486"
      },
      "outputs": [],
      "source": [
        "@jax.jit\n",
        "def train_step(state, batch):\n",
        "  \"\"\"Train for a single step.\"\"\"\n",
        "  def loss_fn(params):\n",
        "    logits = state.apply_fn({'params': params}, batch['image'])\n",
        "    loss = optax.softmax_cross_entropy_with_integer_labels(\n",
        "        logits=logits, labels=batch['label']).mean()\n",
        "    return loss\n",
        "  grad_fn = jax.grad(loss_fn)\n",
        "  grads = grad_fn(state.params)\n",
        "  state = state.apply_gradients(grads=grads)\n",
        "  return state"
      ]
    },
    {
      "cell_type": "markdown",
      "id": "0ff5145f",
      "metadata": {
        "id": "0ff5145f"
      },
      "source": [
        "## 6. Metric computation\n",
        "\n",
        "Create a separate function for loss and accuracy metrics. Loss is calculated using the `optax.softmax_cross_entropy_with_integer_labels` function, while accuracy is calculated using `clu.metrics`."
      ]
    },
    {
      "cell_type": "code",
      "execution_count": 12,
      "id": "961bf70b",
      "metadata": {
        "id": "961bf70b"
      },
      "outputs": [],
      "source": [
        "@jax.jit\n",
        "def compute_metrics(*, state, batch):\n",
        "  logits = state.apply_fn({'params': state.params}, batch['image'])\n",
        "  loss = optax.softmax_cross_entropy_with_integer_labels(\n",
        "        logits=logits, labels=batch['label']).mean()\n",
        "  metric_updates = state.metrics.single_from_model_output(\n",
        "    logits=logits, labels=batch['label'], loss=loss)\n",
        "  metrics = state.metrics.merge(metric_updates)\n",
        "  state = state.replace(metrics=metrics)\n",
        "  return state"
      ]
    },
    {
      "cell_type": "markdown",
      "id": "497241c3",
      "metadata": {
        "id": "497241c3"
      },
      "source": [
        "## 7. Download data"
      ]
    },
    {
      "cell_type": "code",
      "execution_count": 13,
      "id": "bff5393e",
      "metadata": {
        "id": "bff5393e",
        "outputId": "20d8b778-3572-445d-8925-c1a7371eb0af",
        "colab": {
          "base_uri": "https://localhost:8080/",
          "height": 185,
          "referenced_widgets": [
            "c85828a9c9c444049029d7985d92a0a6",
            "91f75b3fa9954bb3a5e0405480c7b8df",
            "1986b2c27d83440b906d29446ffa2590",
            "bf38d3b276b14750b033a502218e383a",
            "31db35a922ad4fe59b770cdbde385c45",
            "71aa0e27165c4a44a788650aab1d23d0",
            "f781b0c3884d4ae5be89961fae3d6b93",
            "4226b59750bf49aa9e611274c7d3f64e",
            "dc4ea6f7a6d14eef87db69138289a1c0",
            "acab527b0eca4afe9388bbd572d0f107",
            "c49bbace8883422e93e372cbe10cd335",
            "1f01c2922fa34da1b861afd3e3c441cc",
            "73f63d72a5ac4167b423c79aa6487e8a",
            "9c1093953a5a4bf2aaa31392af1b2495",
            "d01e2e3ae36a437a9506bd9cbf49f427",
            "65646d89fcbc4324a4ee987bf2c2c11a",
            "7cc39b59358c4599b439facae2fa0a4a",
            "90df0ef710da4b4e9e72c6a74c727589",
            "6cb77f99e88e4745b3e5398bdd2e09da",
            "796543dfca0e45ecb8e63b9ccc20617c",
            "5135bb2d59414be18732f995de92b618",
            "6b6e7d5349664a27b104435ec0a3dce4",
            "68c9cfcfd6d44ff2a0142b296965b7de",
            "f70f4bcf914f49b6bb872ee8c8d271e3",
            "aa5f97dbe8b942f58ad0688697e99e01",
            "bfd20559a8e948a9a1892733f1eca90f",
            "f145782b240246768e76226cc8a28b93",
            "0cbbd849e4b04cf3bd070c7d0e212de6",
            "4b01df7850e94e66a2d8979ca1b44ff0",
            "7f2f7610c9b245b08cbf3403870f98ac",
            "3c3dcd5ddd064465b30e0eb00032591f",
            "a729329a53f34022b7d420ee05560752",
            "576854c8e5c342d89c8d5ffc33089acc",
            "722082935c0644668c2b4e3e2735ed32",
            "c51c485ca8874920a3928d094432028c",
            "82cfb8178ab74a789e49ad2420572fb7",
            "c6a57002ecb54431a13995e4ffb1e27e",
            "6fc46aaef5394cce8f90788cbd0d9737",
            "e3c2a292d777468c997dc7593fe58385",
            "ff6258a98a6e4f03ab50c38545d40cfe",
            "57660df6761343a1b4433fa6dadb821d",
            "121f77aed6e7483d9377d980e52cb70f",
            "3da3a5097d6e4c80933ce93701e3067d",
            "dfef902f246c435f9c6d201752deccc2",
            "fa875db2ba434cd0bb5894b71b05cad3",
            "fb9ac1e87b4c4bc69f8e2114360e1d15",
            "9637f341a285429d940f72b9ed5aadea",
            "3b5208d689eb4f10a745d06cbe191fd9",
            "d46ef0621e124a0ba92aeccd44f7c16d",
            "6a4ac6e5878449aa9df51881a350e62a",
            "a9d8139c8212435eaed4b4f91d8d1f58",
            "7750d279f55f4598af03e2d38117dff9",
            "232fdca27b9443ac8d6b26d1d32a4410",
            "b88ff71d290e43daac818bbf7b043c4d",
            "d8bd8bec4cf74608ab217485ed10525f",
            "f539a82764e547b2a97a0956160be698",
            "bd330c7944544b67acd972cb3e662366",
            "712c1ad8701b4669908555e25fef3074",
            "75b0ad5da87d45718aa6eb5c1889ec24",
            "370796c3e8ec4d819c29331fad2774d1",
            "07029b9519404e3d8d249f7f0a114bb5",
            "b1c450ae064b4700a84b8bc01aeb0112",
            "22770db167e04304a16e89454b7034e4",
            "31ba43d43d6646ca9784e0e88031695a",
            "0acec4adf9184323a0e4b8c54f9f8274",
            "ba95dbb90c8947d89f5d122881e4892a",
            "38168e85e5a546b88de33d8bd247f034",
            "905f2fa607964d4180c056bce8b69786",
            "a7f6987bdaf244f7972ab05d5de9e570",
            "f62440445c594351b21342fc9f4bc6f7",
            "9996b8a916b6447f8b6a146cc5a23cbd",
            "38fe9e53109d4ee68a0d15a5ff05a874",
            "6d2c0483c8934f87945e4e548157dc03",
            "90a9f2a6fd824c4eb02df44095560e74",
            "35fea57401e947649572812ffec9c3f9",
            "f33ca17a87cb413487f2eb14b92a8e7d",
            "1543890dc2e34c9ea97b06be4d70cd41",
            "44dce66b7c63487c93df723c6a8ea25d",
            "3187ff539df14c4daee8caaa651ae49c",
            "395b4b64f53d49c9b8c14f4086a6081f",
            "fd38f3b6c86a4dd4b6bc93c72f79acd6",
            "e071dacceb174463b2901c91cbe14aa4",
            "cd7f39e972f84b98b7a466d44351affc",
            "bb0244df2e214448b2a2779f19a50e47",
            "e3ccdf54da3a4fca87eb62cd51e87853",
            "d7662e53c3794d19bd8c2238f4da51bf",
            "6ff12c064a724a6aa8491b39b6e48ea9",
            "6c0be38e163a4dea893d98b827870540"
          ]
        }
      },
      "outputs": [
        {
          "output_type": "stream",
          "name": "stderr",
          "text": [
            "WARNING:absl:Variant folder /root/tensorflow_datasets/mnist/3.0.1 has no dataset_info.json\n"
          ]
        },
        {
          "output_type": "stream",
          "name": "stdout",
          "text": [
            "Downloading and preparing dataset Unknown size (download: Unknown size, generated: Unknown size, total: Unknown size) to /root/tensorflow_datasets/mnist/3.0.1...\n"
          ]
        },
        {
          "output_type": "display_data",
          "data": {
            "text/plain": [
              "Dl Completed...: 0 url [00:00, ? url/s]"
            ],
            "application/vnd.jupyter.widget-view+json": {
              "version_major": 2,
              "version_minor": 0,
              "model_id": "c85828a9c9c444049029d7985d92a0a6"
            }
          },
          "metadata": {}
        },
        {
          "output_type": "display_data",
          "data": {
            "text/plain": [
              "Dl Size...: 0 MiB [00:00, ? MiB/s]"
            ],
            "application/vnd.jupyter.widget-view+json": {
              "version_major": 2,
              "version_minor": 0,
              "model_id": "1f01c2922fa34da1b861afd3e3c441cc"
            }
          },
          "metadata": {}
        },
        {
          "output_type": "display_data",
          "data": {
            "text/plain": [
              "Extraction completed...: 0 file [00:00, ? file/s]"
            ],
            "application/vnd.jupyter.widget-view+json": {
              "version_major": 2,
              "version_minor": 0,
              "model_id": "68c9cfcfd6d44ff2a0142b296965b7de"
            }
          },
          "metadata": {}
        },
        {
          "output_type": "display_data",
          "data": {
            "text/plain": [
              "Generating splits...:   0%|          | 0/2 [00:00<?, ? splits/s]"
            ],
            "application/vnd.jupyter.widget-view+json": {
              "version_major": 2,
              "version_minor": 0,
              "model_id": "722082935c0644668c2b4e3e2735ed32"
            }
          },
          "metadata": {}
        },
        {
          "output_type": "display_data",
          "data": {
            "text/plain": [
              "Generating train examples...: 0 examples [00:00, ? examples/s]"
            ],
            "application/vnd.jupyter.widget-view+json": {
              "version_major": 2,
              "version_minor": 0,
              "model_id": "fa875db2ba434cd0bb5894b71b05cad3"
            }
          },
          "metadata": {}
        },
        {
          "output_type": "display_data",
          "data": {
            "text/plain": [
              "Shuffling /root/tensorflow_datasets/mnist/incomplete.K9V6H9_3.0.1/mnist-train.tfrecord*...:   0%|          | 0…"
            ],
            "application/vnd.jupyter.widget-view+json": {
              "version_major": 2,
              "version_minor": 0,
              "model_id": "f539a82764e547b2a97a0956160be698"
            }
          },
          "metadata": {}
        },
        {
          "output_type": "display_data",
          "data": {
            "text/plain": [
              "Generating test examples...: 0 examples [00:00, ? examples/s]"
            ],
            "application/vnd.jupyter.widget-view+json": {
              "version_major": 2,
              "version_minor": 0,
              "model_id": "38168e85e5a546b88de33d8bd247f034"
            }
          },
          "metadata": {}
        },
        {
          "output_type": "display_data",
          "data": {
            "text/plain": [
              "Shuffling /root/tensorflow_datasets/mnist/incomplete.K9V6H9_3.0.1/mnist-test.tfrecord*...:   0%|          | 0/…"
            ],
            "application/vnd.jupyter.widget-view+json": {
              "version_major": 2,
              "version_minor": 0,
              "model_id": "44dce66b7c63487c93df723c6a8ea25d"
            }
          },
          "metadata": {}
        },
        {
          "output_type": "stream",
          "name": "stdout",
          "text": [
            "Dataset mnist downloaded and prepared to /root/tensorflow_datasets/mnist/3.0.1. Subsequent calls will reuse this data.\n"
          ]
        }
      ],
      "source": [
        "num_epochs = 10\n",
        "batch_size = 32\n",
        "\n",
        "train_ds, test_ds = get_datasets(num_epochs, batch_size)"
      ]
    },
    {
      "cell_type": "code",
      "source": [
        "for batch in train_ds.take(1):  # Take only the first batch\n",
        "  images, labels = batch['image'], batch['label']\n",
        "  print(\"Image shape:\", images.shape)\n",
        "  print(\"Labels:\", labels.numpy())\n",
        "\n",
        "  # Display the first image in the batch\n",
        "  import matplotlib.pyplot as plt\n",
        "  plt.imshow(images[0].numpy().squeeze(), cmap='gray')\n",
        "  plt.title(f\"Label: {labels[0].numpy()}\")\n",
        "  plt.show()"
      ],
      "metadata": {
        "id": "f2kSIiltiSRO",
        "outputId": "0f259316-06db-445a-f001-98e77c3eb9a6",
        "colab": {
          "base_uri": "https://localhost:8080/",
          "height": 487
        }
      },
      "id": "f2kSIiltiSRO",
      "execution_count": 15,
      "outputs": [
        {
          "output_type": "stream",
          "name": "stdout",
          "text": [
            "Image shape: (32, 28, 28, 1)\n",
            "Labels: [6 9 2 6 1 3 9 1 6 3 9 7 6 3 8 7 0 6 0 9 4 1 3 3 4 0 9 8 1 9 3 5]\n"
          ]
        },
        {
          "output_type": "display_data",
          "data": {
            "text/plain": [
              "<Figure size 640x480 with 1 Axes>"
            ],
            "image/png": "[encoded data removed]"
          },
          "metadata": {}
        }
      ]
    },
    {
      "cell_type": "markdown",
      "id": "809ae1a0",
      "metadata": {
        "id": "809ae1a0"
      },
      "source": [
        "## 8. Seed randomness\n",
        "\n",
        "- Set the TF random seed to ensure dataset shuffling (with `tf.data.Dataset.shuffle`) is reproducible.\n",
        "- Get one\n",
        "  [PRNGKey](https://jax.readthedocs.io/en/latest/_autosummary/jax.random.PRNGKey.html#jax.random.PRNGKey)\n",
        "  and use it for parameter initialization. (Learn\n",
        "  more about\n",
        "  [JAX PRNG design](https://jax.readthedocs.io/en/latest/jax-101/05-random-numbers.html)\n",
        "  and [PRNG chains](https://flax.readthedocs.io/en/latest/philosophy.html#how-are-parameters-represented-and-how-do-we-handle-general-differentiable-algorithms-that-update-stateful-variables).)"
      ]
    },
    {
      "cell_type": "code",
      "execution_count": 16,
      "id": "xC4MFyBsfT-U",
      "metadata": {
        "id": "xC4MFyBsfT-U"
      },
      "outputs": [],
      "source": [
        "tf.random.set_seed(0)"
      ]
    },
    {
      "cell_type": "code",
      "execution_count": 17,
      "id": "e4f6f4d3",
      "metadata": {
        "id": "e4f6f4d3"
      },
      "outputs": [],
      "source": [
        "init_rng = jax.random.key(0)"
      ]
    },
    {
      "cell_type": "markdown",
      "id": "80fbb60b",
      "metadata": {
        "id": "80fbb60b"
      },
      "source": [
        "## 9. Initialize the `TrainState`\n",
        "\n",
        "Remember that the function `create_train_state` initializes the model parameters, optimizer and metrics\n",
        "and puts them into the training state dataclass that is returned."
      ]
    },
    {
      "cell_type": "code",
      "execution_count": 18,
      "id": "445fcab0",
      "metadata": {
        "id": "445fcab0"
      },
      "outputs": [],
      "source": [
        "learning_rate = 0.01\n",
        "momentum = 0.9"
      ]
    },
    {
      "cell_type": "code",
      "execution_count": 19,
      "id": "5221eafd",
      "metadata": {
        "id": "5221eafd"
      },
      "outputs": [],
      "source": [
        "state = create_train_state(cnn, init_rng, learning_rate, momentum)\n",
        "del init_rng  # Must not be used anymore."
      ]
    },
    {
      "cell_type": "markdown",
      "id": "b1c00230",
      "metadata": {
        "id": "b1c00230"
      },
      "source": [
        "## 10. Train and evaluate\n",
        "\n",
        "Create a \"shuffled\" dataset by:\n",
        "- Repeating the dataset equal to the number of training epochs\n",
        "- Allocating a buffer of size 1024 (containing the first 1024 samples in the dataset) of which to randomly sample batches from\n",
        "  - Every time a sample is randomly drawn from the buffer, the next sample in the dataset is loaded into the buffer\n",
        "\n",
        "Define a training loop that:\n",
        "- Randomly samples batches from the dataset.\n",
        "- Runs an optimization step for each training batch.\n",
        "- Computes the mean training metrics across each batch in an epoch.\n",
        "- Computes the metrics for the test set using the updated parameters.\n",
        "- Records the train and test metrics for visualization.\n",
        "\n",
        "Once the training and testing is done after 10 epochs, the output should show that your model was able to achieve approximately 99% accuracy."
      ]
    },
    {
      "cell_type": "code",
      "execution_count": 20,
      "id": "74295360",
      "metadata": {
        "id": "74295360"
      },
      "outputs": [],
      "source": [
        "# since train_ds is replicated num_epochs times in get_datasets(), we divide by num_epochs\n",
        "num_steps_per_epoch = train_ds.cardinality().numpy() // num_epochs"
      ]
    },
    {
      "cell_type": "code",
      "execution_count": 21,
      "id": "cRtnMZuQFlKl",
      "metadata": {
        "id": "cRtnMZuQFlKl"
      },
      "outputs": [],
      "source": [
        "metrics_history = {'train_loss': [],\n",
        "                   'train_accuracy': [],\n",
        "                   'test_loss': [],\n",
        "                   'test_accuracy': []}"
      ]
    },
    {
      "cell_type": "code",
      "execution_count": 22,
      "id": "2c40ce90",
      "metadata": {
        "outputId": "adb5f76f-2954-4be5-a5ee-f191e283dbcd",
        "id": "2c40ce90",
        "colab": {
          "base_uri": "https://localhost:8080/"
        }
      },
      "outputs": [
        {
          "output_type": "stream",
          "name": "stdout",
          "text": [
            "train epoch: 1, loss: 0.18424397706985474, accuracy: 94.57167053222656\n",
            "test epoch: 1, loss: 0.07870806753635406, accuracy: 97.48597717285156\n",
            "train epoch: 2, loss: 0.05541176348924637, accuracy: 98.33999633789062\n",
            "test epoch: 2, loss: 0.04693339020013809, accuracy: 98.53765869140625\n",
            "train epoch: 3, loss: 0.03644212707877159, accuracy: 98.92500305175781\n",
            "test epoch: 3, loss: 0.0475151501595974, accuracy: 98.45753479003906\n",
            "train epoch: 4, loss: 0.026946205645799637, accuracy: 99.23500061035156\n",
            "test epoch: 4, loss: 0.03954103961586952, accuracy: 98.68789672851562\n",
            "train epoch: 5, loss: 0.02136896550655365, accuracy: 99.38833618164062\n",
            "test epoch: 5, loss: 0.03609353303909302, accuracy: 98.86819458007812\n",
            "train epoch: 6, loss: 0.01609976775944233, accuracy: 99.57500457763672\n",
            "test epoch: 6, loss: 0.03401927277445793, accuracy: 98.97836303710938\n",
            "train epoch: 7, loss: 0.013072230853140354, accuracy: 99.66666412353516\n",
            "test epoch: 7, loss: 0.0342329740524292, accuracy: 99.09855651855469\n",
            "train epoch: 8, loss: 0.010432839393615723, accuracy: 99.7550048828125\n",
            "test epoch: 8, loss: 0.02988893911242485, accuracy: 99.15865325927734\n",
            "train epoch: 9, loss: 0.00801721028983593, accuracy: 99.81999969482422\n",
            "test epoch: 9, loss: 0.03187417984008789, accuracy: 99.0584945678711\n",
            "train epoch: 10, loss: 0.00702500669285655, accuracy: 99.85334014892578\n",
            "test epoch: 10, loss: 0.031449005007743835, accuracy: 99.08854675292969\n"
          ]
        }
      ],
      "source": [
        "for step,batch in enumerate(train_ds.as_numpy_iterator()):\n",
        "\n",
        "  # Run optimization steps over training batches and compute batch metrics\n",
        "  state = train_step(state, batch) # get updated train state (which contains the updated parameters)\n",
        "  state = compute_metrics(state=state, batch=batch) # aggregate batch metrics\n",
        "\n",
        "  if (step+1) % num_steps_per_epoch == 0: # one training epoch has passed\n",
        "    for metric,value in state.metrics.compute().items(): # compute metrics\n",
        "      metrics_history[f'train_{metric}'].append(value) # record metrics\n",
        "    state = state.replace(metrics=state.metrics.empty()) # reset train_metrics for next training epoch\n",
        "\n",
        "    # Compute metrics on the test set after each training epoch\n",
        "    test_state = state\n",
        "    for test_batch in test_ds.as_numpy_iterator():\n",
        "      test_state = compute_metrics(state=test_state, batch=test_batch)\n",
        "\n",
        "    for metric,value in test_state.metrics.compute().items():\n",
        "      metrics_history[f'test_{metric}'].append(value)\n",
        "\n",
        "    print(f\"train epoch: {(step+1) // num_steps_per_epoch}, \"\n",
        "          f\"loss: {metrics_history['train_loss'][-1]}, \"\n",
        "          f\"accuracy: {metrics_history['train_accuracy'][-1] * 100}\")\n",
        "    print(f\"test epoch: {(step+1) // num_steps_per_epoch}, \"\n",
        "          f\"loss: {metrics_history['test_loss'][-1]}, \"\n",
        "          f\"accuracy: {metrics_history['test_accuracy'][-1] * 100}\")"
      ]
    },
    {
      "cell_type": "markdown",
      "id": "gfsecJzvzgCT",
      "metadata": {
        "id": "gfsecJzvzgCT"
      },
      "source": [
        "## 11. Visualize metrics"
      ]
    },
    {
      "cell_type": "code",
      "execution_count": 23,
      "id": "Zs5atiqIG9Kz",
      "metadata": {
        "outputId": "c65dab1d-8f51-4eb9-96b6-d11f708c2295",
        "id": "Zs5atiqIG9Kz",
        "colab": {
          "base_uri": "https://localhost:8080/",
          "height": 330
        }
      },
      "outputs": [
        {
          "output_type": "display_data",
          "data": {
            "text/plain": [
              "<Figure size 1500x500 with 2 Axes>"
            ],
            "image/png": "[encoded data removed]"
          },
          "metadata": {}
        },
        {
          "output_type": "display_data",
          "data": {
            "text/plain": [
              "<Figure size 640x480 with 0 Axes>"
            ]
          },
          "metadata": {}
        }
      ],
      "source": [
        "import matplotlib.pyplot as plt  # Visualization\n",
        "\n",
        "# Plot loss and accuracy in subplots\n",
        "fig, (ax1, ax2) = plt.subplots(1, 2, figsize=(15, 5))\n",
        "ax1.set_title('Loss')\n",
        "ax2.set_title('Accuracy')\n",
        "for dataset in ('train','test'):\n",
        "  ax1.plot(metrics_history[f'{dataset}_loss'], label=f'{dataset}_loss')\n",
        "  ax2.plot(metrics_history[f'{dataset}_accuracy'], label=f'{dataset}_accuracy')\n",
        "ax1.legend()\n",
        "ax2.legend()\n",
        "plt.show()\n",
        "plt.clf()"
      ]
    },
    {
      "cell_type": "markdown",
      "id": "qQbKS0tV3sZ1",
      "metadata": {
        "id": "qQbKS0tV3sZ1"
      },
      "source": [
        "## 12. Perform inference on test set\n",
        "\n",
        "Define a jitted inference function `pred_step`. Use the learned parameters to do model inference on the test set and visualize the images and their corresponding predicted labels."
      ]
    },
    {
      "cell_type": "code",
      "execution_count": 24,
      "id": "DFwxgBQf44ks",
      "metadata": {
        "id": "DFwxgBQf44ks"
      },
      "outputs": [],
      "source": [
        "@jax.jit\n",
        "def pred_step(state, batch):\n",
        "  logits = state.apply_fn({'params': state.params}, test_batch['image'])\n",
        "  return logits.argmax(axis=1)\n",
        "\n",
        "test_batch = test_ds.as_numpy_iterator().next()\n",
        "pred = pred_step(state, test_batch)"
      ]
    },
    {
      "cell_type": "code",
      "execution_count": 25,
      "id": "5d5nF3u44JFI",
      "metadata": {
        "outputId": "89da714b-3e18-4195-c15b-e3ce9f9ba386",
        "id": "5d5nF3u44JFI",
        "colab": {
          "base_uri": "https://localhost:8080/",
          "height": 840
        }
      },
      "outputs": [
        {
          "output_type": "display_data",
          "data": {
            "text/plain": [
              "<Figure size 1200x1200 with 25 Axes>"
            ],
            "image/png": "[encoded data removed]"
          },
          "metadata": {}
        }
      ],
      "source": [
        "fig, axs = plt.subplots(5, 5, figsize=(12, 12))\n",
        "for i, ax in enumerate(axs.flatten()):\n",
        "    ax.imshow(test_batch['image'][i, ..., 0], cmap='gray')\n",
        "    ax.set_title(f\"label={pred[i]}\")\n",
        "    ax.axis('off')"
      ]
    },
    {
      "cell_type": "markdown",
      "id": "edb528b6",
      "metadata": {
        "id": "edb528b6"
      },
      "source": [
        "Congratulations! You made it to the end of the annotated MNIST example. You can revisit\n",
        "the same example, but structured differently as a couple of Python modules, test\n",
        "modules, config files, another Colab, and documentation in Flax's Git repo:\n",
        "\n",
        "[https://github.com/google/flax/tree/main/examples/mnist](https://github.com/google/flax/tree/main/examples/mnist)"
      ]
    }
  ],
  "metadata": {
    "jupytext": {
      "formats": "ipynb,md:myst",
      "main_language": "python"
    },
    "language_info": {
      "name": "python"
    },
    "colab": {
      "provenance": [],
      "gpuType": "T4"
    },
    "kernelspec": {
      "name": "python3",
      "display_name": "Python 3"
    },
    "accelerator": "GPU",
    "widgets": {
      "application/vnd.jupyter.widget-state+json": {
        "c85828a9c9c444049029d7985d92a0a6": {
          "model_module": "@jupyter-widgets/controls",
          "model_name": "HBoxModel",
          "model_module_version": "1.5.0",
          "state": {
            "_dom_classes": [],
            "_model_module": "@jupyter-widgets/controls",
            "_model_module_version": "1.5.0",
            "_model_name": "HBoxModel",
            "_view_count": null,
            "_view_module": "@jupyter-widgets/controls",
            "_view_module_version": "1.5.0",
            "_view_name": "HBoxView",
            "box_style": "",
            "children": [
              "IPY_MODEL_91f75b3fa9954bb3a5e0405480c7b8df",
              "IPY_MODEL_1986b2c27d83440b906d29446ffa2590",
              "IPY_MODEL_bf38d3b276b14750b033a502218e383a"
            ],
            "layout": "IPY_MODEL_31db35a922ad4fe59b770cdbde385c45"
          }
        },
        "91f75b3fa9954bb3a5e0405480c7b8df": {
          "model_module": "@jupyter-widgets/controls",
          "model_name": "HTMLModel",
          "model_module_version": "1.5.0",
          "state": {
            "_dom_classes": [],
            "_model_module": "@jupyter-widgets/controls",
            "_model_module_version": "1.5.0",
            "_model_name": "HTMLModel",
            "_view_count": null,
            "_view_module": "@jupyter-widgets/controls",
            "_view_module_version": "1.5.0",
            "_view_name": "HTMLView",
            "description": "",
            "description_tooltip": null,
            "layout": "IPY_MODEL_71aa0e27165c4a44a788650aab1d23d0",
            "placeholder": "​",
            "style": "IPY_MODEL_f781b0c3884d4ae5be89961fae3d6b93",
            "value": "Dl Completed...: 100%"
          }
        },
        "1986b2c27d83440b906d29446ffa2590": {
          "model_module": "@jupyter-widgets/controls",
          "model_name": "FloatProgressModel",
          "model_module_version": "1.5.0",
          "state": {
            "_dom_classes": [],
            "_model_module": "@jupyter-widgets/controls",
            "_model_module_version": "1.5.0",
            "_model_name": "FloatProgressModel",
            "_view_count": null,
            "_view_module": "@jupyter-widgets/controls",
            "_view_module_version": "1.5.0",
            "_view_name": "ProgressView",
            "bar_style": "success",
            "description": "",
            "description_tooltip": null,
            "layout": "IPY_MODEL_4226b59750bf49aa9e611274c7d3f64e",
            "max": 1,
            "min": 0,
            "orientation": "horizontal",
            "style": "IPY_MODEL_dc4ea6f7a6d14eef87db69138289a1c0",
            "value": 1
          }
        },
        "bf38d3b276b14750b033a502218e383a": {
          "model_module": "@jupyter-widgets/controls",
          "model_name": "HTMLModel",
          "model_module_version": "1.5.0",
          "state": {
            "_dom_classes": [],
            "_model_module": "@jupyter-widgets/controls",
            "_model_module_version": "1.5.0",
            "_model_name": "HTMLModel",
            "_view_count": null,
            "_view_module": "@jupyter-widgets/controls",
            "_view_module_version": "1.5.0",
            "_view_name": "HTMLView",
            "description": "",
            "description_tooltip": null,
            "layout": "IPY_MODEL_acab527b0eca4afe9388bbd572d0f107",
            "placeholder": "​",
            "style": "IPY_MODEL_c49bbace8883422e93e372cbe10cd335",
            "value": " 4/4 [00:04&lt;00:00,  1.09 url/s]"
          }
        },
        "31db35a922ad4fe59b770cdbde385c45": {
          "model_module": "@jupyter-widgets/base",
          "model_name": "LayoutModel",
          "model_module_version": "1.2.0",
          "state": {
            "_model_module": "@jupyter-widgets/base",
            "_model_module_version": "1.2.0",
            "_model_name": "LayoutModel",
            "_view_count": null,
            "_view_module": "@jupyter-widgets/base",
            "_view_module_version": "1.2.0",
            "_view_name": "LayoutView",
            "align_content": null,
            "align_items": null,
            "align_self": null,
            "border": null,
            "bottom": null,
            "display": null,
            "flex": null,
            "flex_flow": null,
            "grid_area": null,
            "grid_auto_columns": null,
            "grid_auto_flow": null,
            "grid_auto_rows": null,
            "grid_column": null,
            "grid_gap": null,
            "grid_row": null,
            "grid_template_areas": null,
            "grid_template_columns": null,
            "grid_template_rows": null,
            "height": null,
            "justify_content": null,
            "justify_items": null,
            "left": null,
            "margin": null,
            "max_height": null,
            "max_width": null,
            "min_height": null,
            "min_width": null,
            "object_fit": null,
            "object_position": null,
            "order": null,
            "overflow": null,
            "overflow_x": null,
            "overflow_y": null,
            "padding": null,
            "right": null,
            "top": null,
            "visibility": null,
            "width": null
          }
        },
        "71aa0e27165c4a44a788650aab1d23d0": {
          "model_module": "@jupyter-widgets/base",
          "model_name": "LayoutModel",
          "model_module_version": "1.2.0",
          "state": {
            "_model_module": "@jupyter-widgets/base",
            "_model_module_version": "1.2.0",
            "_model_name": "LayoutModel",
            "_view_count": null,
            "_view_module": "@jupyter-widgets/base",
            "_view_module_version": "1.2.0",
            "_view_name": "LayoutView",
            "align_content": null,
            "align_items": null,
            "align_self": null,
            "border": null,
            "bottom": null,
            "display": null,
            "flex": null,
            "flex_flow": null,
            "grid_area": null,
            "grid_auto_columns": null,
            "grid_auto_flow": null,
            "grid_auto_rows": null,
            "grid_column": null,
            "grid_gap": null,
            "grid_row": null,
            "grid_template_areas": null,
            "grid_template_columns": null,
            "grid_template_rows": null,
            "height": null,
            "justify_content": null,
            "justify_items": null,
            "left": null,
            "margin": null,
            "max_height": null,
            "max_width": null,
            "min_height": null,
            "min_width": null,
            "object_fit": null,
            "object_position": null,
            "order": null,
            "overflow": null,
            "overflow_x": null,
            "overflow_y": null,
            "padding": null,
            "right": null,
            "top": null,
            "visibility": null,
            "width": null
          }
        },
        "f781b0c3884d4ae5be89961fae3d6b93": {
          "model_module": "@jupyter-widgets/controls",
          "model_name": "DescriptionStyleModel",
          "model_module_version": "1.5.0",
          "state": {
            "_model_module": "@jupyter-widgets/controls",
            "_model_module_version": "1.5.0",
            "_model_name": "DescriptionStyleModel",
            "_view_count": null,
            "_view_module": "@jupyter-widgets/base",
            "_view_module_version": "1.2.0",
            "_view_name": "StyleView",
            "description_width": ""
          }
        },
        "4226b59750bf49aa9e611274c7d3f64e": {
          "model_module": "@jupyter-widgets/base",
          "model_name": "LayoutModel",
          "model_module_version": "1.2.0",
          "state": {
            "_model_module": "@jupyter-widgets/base",
            "_model_module_version": "1.2.0",
            "_model_name": "LayoutModel",
            "_view_count": null,
            "_view_module": "@jupyter-widgets/base",
            "_view_module_version": "1.2.0",
            "_view_name": "LayoutView",
            "align_content": null,
            "align_items": null,
            "align_self": null,
            "border": null,
            "bottom": null,
            "display": null,
            "flex": null,
            "flex_flow": null,
            "grid_area": null,
            "grid_auto_columns": null,
            "grid_auto_flow": null,
            "grid_auto_rows": null,
            "grid_column": null,
            "grid_gap": null,
            "grid_row": null,
            "grid_template_areas": null,
            "grid_template_columns": null,
            "grid_template_rows": null,
            "height": null,
            "justify_content": null,
            "justify_items": null,
            "left": null,
            "margin": null,
            "max_height": null,
            "max_width": null,
            "min_height": null,
            "min_width": null,
            "object_fit": null,
            "object_position": null,
            "order": null,
            "overflow": null,
            "overflow_x": null,
            "overflow_y": null,
            "padding": null,
            "right": null,
            "top": null,
            "visibility": null,
            "width": "20px"
          }
        },
        "dc4ea6f7a6d14eef87db69138289a1c0": {
          "model_module": "@jupyter-widgets/controls",
          "model_name": "ProgressStyleModel",
          "model_module_version": "1.5.0",
          "state": {
            "_model_module": "@jupyter-widgets/controls",
            "_model_module_version": "1.5.0",
            "_model_name": "ProgressStyleModel",
            "_view_count": null,
            "_view_module": "@jupyter-widgets/base",
            "_view_module_version": "1.2.0",
            "_view_name": "StyleView",
            "bar_color": null,
            "description_width": ""
          }
        },
        "acab527b0eca4afe9388bbd572d0f107": {
          "model_module": "@jupyter-widgets/base",
          "model_name": "LayoutModel",
          "model_module_version": "1.2.0",
          "state": {
            "_model_module": "@jupyter-widgets/base",
            "_model_module_version": "1.2.0",
            "_model_name": "LayoutModel",
            "_view_count": null,
            "_view_module": "@jupyter-widgets/base",
            "_view_module_version": "1.2.0",
            "_view_name": "LayoutView",
            "align_content": null,
            "align_items": null,
            "align_self": null,
            "border": null,
            "bottom": null,
            "display": null,
            "flex": null,
            "flex_flow": null,
            "grid_area": null,
            "grid_auto_columns": null,
            "grid_auto_flow": null,
            "grid_auto_rows": null,
            "grid_column": null,
            "grid_gap": null,
            "grid_row": null,
            "grid_template_areas": null,
            "grid_template_columns": null,
            "grid_template_rows": null,
            "height": null,
            "justify_content": null,
            "justify_items": null,
            "left": null,
            "margin": null,
            "max_height": null,
            "max_width": null,
            "min_height": null,
            "min_width": null,
            "object_fit": null,
            "object_position": null,
            "order": null,
            "overflow": null,
            "overflow_x": null,
            "overflow_y": null,
            "padding": null,
            "right": null,
            "top": null,
            "visibility": null,
            "width": null
          }
        },
        "c49bbace8883422e93e372cbe10cd335": {
          "model_module": "@jupyter-widgets/controls",
          "model_name": "DescriptionStyleModel",
          "model_module_version": "1.5.0",
          "state": {
            "_model_module": "@jupyter-widgets/controls",
            "_model_module_version": "1.5.0",
            "_model_name": "DescriptionStyleModel",
            "_view_count": null,
            "_view_module": "@jupyter-widgets/base",
            "_view_module_version": "1.2.0",
            "_view_name": "StyleView",
            "description_width": ""
          }
        },
        "1f01c2922fa34da1b861afd3e3c441cc": {
          "model_module": "@jupyter-widgets/controls",
          "model_name": "HBoxModel",
          "model_module_version": "1.5.0",
          "state": {
            "_dom_classes": [],
            "_model_module": "@jupyter-widgets/controls",
            "_model_module_version": "1.5.0",
            "_model_name": "HBoxModel",
            "_view_count": null,
            "_view_module": "@jupyter-widgets/controls",
            "_view_module_version": "1.5.0",
            "_view_name": "HBoxView",
            "box_style": "",
            "children": [
              "IPY_MODEL_73f63d72a5ac4167b423c79aa6487e8a",
              "IPY_MODEL_9c1093953a5a4bf2aaa31392af1b2495",
              "IPY_MODEL_d01e2e3ae36a437a9506bd9cbf49f427"
            ],
            "layout": "IPY_MODEL_65646d89fcbc4324a4ee987bf2c2c11a"
          }
        },
        "73f63d72a5ac4167b423c79aa6487e8a": {
          "model_module": "@jupyter-widgets/controls",
          "model_name": "HTMLModel",
          "model_module_version": "1.5.0",
          "state": {
            "_dom_classes": [],
            "_model_module": "@jupyter-widgets/controls",
            "_model_module_version": "1.5.0",
            "_model_name": "HTMLModel",
            "_view_count": null,
            "_view_module": "@jupyter-widgets/controls",
            "_view_module_version": "1.5.0",
            "_view_name": "HTMLView",
            "description": "",
            "description_tooltip": null,
            "layout": "IPY_MODEL_7cc39b59358c4599b439facae2fa0a4a",
            "placeholder": "​",
            "style": "IPY_MODEL_90df0ef710da4b4e9e72c6a74c727589",
            "value": "Dl Size...: 100%"
          }
        },
        "9c1093953a5a4bf2aaa31392af1b2495": {
          "model_module": "@jupyter-widgets/controls",
          "model_name": "FloatProgressModel",
          "model_module_version": "1.5.0",
          "state": {
            "_dom_classes": [],
            "_model_module": "@jupyter-widgets/controls",
            "_model_module_version": "1.5.0",
            "_model_name": "FloatProgressModel",
            "_view_count": null,
            "_view_module": "@jupyter-widgets/controls",
            "_view_module_version": "1.5.0",
            "_view_name": "ProgressView",
            "bar_style": "success",
            "description": "",
            "description_tooltip": null,
            "layout": "IPY_MODEL_6cb77f99e88e4745b3e5398bdd2e09da",
            "max": 1,
            "min": 0,
            "orientation": "horizontal",
            "style": "IPY_MODEL_796543dfca0e45ecb8e63b9ccc20617c",
            "value": 1
          }
        },
        "d01e2e3ae36a437a9506bd9cbf49f427": {
          "model_module": "@jupyter-widgets/controls",
          "model_name": "HTMLModel",
          "model_module_version": "1.5.0",
          "state": {
            "_dom_classes": [],
            "_model_module": "@jupyter-widgets/controls",
            "_model_module_version": "1.5.0",
            "_model_name": "HTMLModel",
            "_view_count": null,
            "_view_module": "@jupyter-widgets/controls",
            "_view_module_version": "1.5.0",
            "_view_name": "HTMLView",
            "description": "",
            "description_tooltip": null,
            "layout": "IPY_MODEL_5135bb2d59414be18732f995de92b618",
            "placeholder": "​",
            "style": "IPY_MODEL_6b6e7d5349664a27b104435ec0a3dce4",
            "value": " 10/10 [00:04&lt;00:00,  2.83s/ MiB]"
          }
        },
        "65646d89fcbc4324a4ee987bf2c2c11a": {
          "model_module": "@jupyter-widgets/base",
          "model_name": "LayoutModel",
          "model_module_version": "1.2.0",
          "state": {
            "_model_module": "@jupyter-widgets/base",
            "_model_module_version": "1.2.0",
            "_model_name": "LayoutModel",
            "_view_count": null,
            "_view_module": "@jupyter-widgets/base",
            "_view_module_version": "1.2.0",
            "_view_name": "LayoutView",
            "align_content": null,
            "align_items": null,
            "align_self": null,
            "border": null,
            "bottom": null,
            "display": null,
            "flex": null,
            "flex_flow": null,
            "grid_area": null,
            "grid_auto_columns": null,
            "grid_auto_flow": null,
            "grid_auto_rows": null,
            "grid_column": null,
            "grid_gap": null,
            "grid_row": null,
            "grid_template_areas": null,
            "grid_template_columns": null,
            "grid_template_rows": null,
            "height": null,
            "justify_content": null,
            "justify_items": null,
            "left": null,
            "margin": null,
            "max_height": null,
            "max_width": null,
            "min_height": null,
            "min_width": null,
            "object_fit": null,
            "object_position": null,
            "order": null,
            "overflow": null,
            "overflow_x": null,
            "overflow_y": null,
            "padding": null,
            "right": null,
            "top": null,
            "visibility": null,
            "width": null
          }
        },
        "7cc39b59358c4599b439facae2fa0a4a": {
          "model_module": "@jupyter-widgets/base",
          "model_name": "LayoutModel",
          "model_module_version": "1.2.0",
          "state": {
            "_model_module": "@jupyter-widgets/base",
            "_model_module_version": "1.2.0",
            "_model_name": "LayoutModel",
            "_view_count": null,
            "_view_module": "@jupyter-widgets/base",
            "_view_module_version": "1.2.0",
            "_view_name": "LayoutView",
            "align_content": null,
            "align_items": null,
            "align_self": null,
            "border": null,
            "bottom": null,
            "display": null,
            "flex": null,
            "flex_flow": null,
            "grid_area": null,
            "grid_auto_columns": null,
            "grid_auto_flow": null,
            "grid_auto_rows": null,
            "grid_column": null,
            "grid_gap": null,
            "grid_row": null,
            "grid_template_areas": null,
            "grid_template_columns": null,
            "grid_template_rows": null,
            "height": null,
            "justify_content": null,
            "justify_items": null,
            "left": null,
            "margin": null,
            "max_height": null,
            "max_width": null,
            "min_height": null,
            "min_width": null,
            "object_fit": null,
            "object_position": null,
            "order": null,
            "overflow": null,
            "overflow_x": null,
            "overflow_y": null,
            "padding": null,
            "right": null,
            "top": null,
            "visibility": null,
            "width": null
          }
        },
        "90df0ef710da4b4e9e72c6a74c727589": {
          "model_module": "@jupyter-widgets/controls",
          "model_name": "DescriptionStyleModel",
          "model_module_version": "1.5.0",
          "state": {
            "_model_module": "@jupyter-widgets/controls",
            "_model_module_version": "1.5.0",
            "_model_name": "DescriptionStyleModel",
            "_view_count": null,
            "_view_module": "@jupyter-widgets/base",
            "_view_module_version": "1.2.0",
            "_view_name": "StyleView",
            "description_width": ""
          }
        },
        "6cb77f99e88e4745b3e5398bdd2e09da": {
          "model_module": "@jupyter-widgets/base",
          "model_name": "LayoutModel",
          "model_module_version": "1.2.0",
          "state": {
            "_model_module": "@jupyter-widgets/base",
            "_model_module_version": "1.2.0",
            "_model_name": "LayoutModel",
            "_view_count": null,
            "_view_module": "@jupyter-widgets/base",
            "_view_module_version": "1.2.0",
            "_view_name": "LayoutView",
            "align_content": null,
            "align_items": null,
            "align_self": null,
            "border": null,
            "bottom": null,
            "display": null,
            "flex": null,
            "flex_flow": null,
            "grid_area": null,
            "grid_auto_columns": null,
            "grid_auto_flow": null,
            "grid_auto_rows": null,
            "grid_column": null,
            "grid_gap": null,
            "grid_row": null,
            "grid_template_areas": null,
            "grid_template_columns": null,
            "grid_template_rows": null,
            "height": null,
            "justify_content": null,
            "justify_items": null,
            "left": null,
            "margin": null,
            "max_height": null,
            "max_width": null,
            "min_height": null,
            "min_width": null,
            "object_fit": null,
            "object_position": null,
            "order": null,
            "overflow": null,
            "overflow_x": null,
            "overflow_y": null,
            "padding": null,
            "right": null,
            "top": null,
            "visibility": null,
            "width": "20px"
          }
        },
        "796543dfca0e45ecb8e63b9ccc20617c": {
          "model_module": "@jupyter-widgets/controls",
          "model_name": "ProgressStyleModel",
          "model_module_version": "1.5.0",
          "state": {
            "_model_module": "@jupyter-widgets/controls",
            "_model_module_version": "1.5.0",
            "_model_name": "ProgressStyleModel",
            "_view_count": null,
            "_view_module": "@jupyter-widgets/base",
            "_view_module_version": "1.2.0",
            "_view_name": "StyleView",
            "bar_color": null,
            "description_width": ""
          }
        },
        "5135bb2d59414be18732f995de92b618": {
          "model_module": "@jupyter-widgets/base",
          "model_name": "LayoutModel",
          "model_module_version": "1.2.0",
          "state": {
            "_model_module": "@jupyter-widgets/base",
            "_model_module_version": "1.2.0",
            "_model_name": "LayoutModel",
            "_view_count": null,
            "_view_module": "@jupyter-widgets/base",
            "_view_module_version": "1.2.0",
            "_view_name": "LayoutView",
            "align_content": null,
            "align_items": null,
            "align_self": null,
            "border": null,
            "bottom": null,
            "display": null,
            "flex": null,
            "flex_flow": null,
            "grid_area": null,
            "grid_auto_columns": null,
            "grid_auto_flow": null,
            "grid_auto_rows": null,
            "grid_column": null,
            "grid_gap": null,
            "grid_row": null,
            "grid_template_areas": null,
            "grid_template_columns": null,
            "grid_template_rows": null,
            "height": null,
            "justify_content": null,
            "justify_items": null,
            "left": null,
            "margin": null,
            "max_height": null,
            "max_width": null,
            "min_height": null,
            "min_width": null,
            "object_fit": null,
            "object_position": null,
            "order": null,
            "overflow": null,
            "overflow_x": null,
            "overflow_y": null,
            "padding": null,
            "right": null,
            "top": null,
            "visibility": null,
            "width": null
          }
        },
        "6b6e7d5349664a27b104435ec0a3dce4": {
          "model_module": "@jupyter-widgets/controls",
          "model_name": "DescriptionStyleModel",
          "model_module_version": "1.5.0",
          "state": {
            "_model_module": "@jupyter-widgets/controls",
            "_model_module_version": "1.5.0",
            "_model_name": "DescriptionStyleModel",
            "_view_count": null,
            "_view_module": "@jupyter-widgets/base",
            "_view_module_version": "1.2.0",
            "_view_name": "StyleView",
            "description_width": ""
          }
        },
        "68c9cfcfd6d44ff2a0142b296965b7de": {
          "model_module": "@jupyter-widgets/controls",
          "model_name": "HBoxModel",
          "model_module_version": "1.5.0",
          "state": {
            "_dom_classes": [],
            "_model_module": "@jupyter-widgets/controls",
            "_model_module_version": "1.5.0",
            "_model_name": "HBoxModel",
            "_view_count": null,
            "_view_module": "@jupyter-widgets/controls",
            "_view_module_version": "1.5.0",
            "_view_name": "HBoxView",
            "box_style": "",
            "children": [
              "IPY_MODEL_f70f4bcf914f49b6bb872ee8c8d271e3",
              "IPY_MODEL_aa5f97dbe8b942f58ad0688697e99e01",
              "IPY_MODEL_bfd20559a8e948a9a1892733f1eca90f"
            ],
            "layout": "IPY_MODEL_f145782b240246768e76226cc8a28b93"
          }
        },
        "f70f4bcf914f49b6bb872ee8c8d271e3": {
          "model_module": "@jupyter-widgets/controls",
          "model_name": "HTMLModel",
          "model_module_version": "1.5.0",
          "state": {
            "_dom_classes": [],
            "_model_module": "@jupyter-widgets/controls",
            "_model_module_version": "1.5.0",
            "_model_name": "HTMLModel",
            "_view_count": null,
            "_view_module": "@jupyter-widgets/controls",
            "_view_module_version": "1.5.0",
            "_view_name": "HTMLView",
            "description": "",
            "description_tooltip": null,
            "layout": "IPY_MODEL_0cbbd849e4b04cf3bd070c7d0e212de6",
            "placeholder": "​",
            "style": "IPY_MODEL_4b01df7850e94e66a2d8979ca1b44ff0",
            "value": "Extraction completed...: 100%"
          }
        },
        "aa5f97dbe8b942f58ad0688697e99e01": {
          "model_module": "@jupyter-widgets/controls",
          "model_name": "FloatProgressModel",
          "model_module_version": "1.5.0",
          "state": {
            "_dom_classes": [],
            "_model_module": "@jupyter-widgets/controls",
            "_model_module_version": "1.5.0",
            "_model_name": "FloatProgressModel",
            "_view_count": null,
            "_view_module": "@jupyter-widgets/controls",
            "_view_module_version": "1.5.0",
            "_view_name": "ProgressView",
            "bar_style": "success",
            "description": "",
            "description_tooltip": null,
            "layout": "IPY_MODEL_7f2f7610c9b245b08cbf3403870f98ac",
            "max": 1,
            "min": 0,
            "orientation": "horizontal",
            "style": "IPY_MODEL_3c3dcd5ddd064465b30e0eb00032591f",
            "value": 1
          }
        },
        "bfd20559a8e948a9a1892733f1eca90f": {
          "model_module": "@jupyter-widgets/controls",
          "model_name": "HTMLModel",
          "model_module_version": "1.5.0",
          "state": {
            "_dom_classes": [],
            "_model_module": "@jupyter-widgets/controls",
            "_model_module_version": "1.5.0",
            "_model_name": "HTMLModel",
            "_view_count": null,
            "_view_module": "@jupyter-widgets/controls",
            "_view_module_version": "1.5.0",
            "_view_name": "HTMLView",
            "description": "",
            "description_tooltip": null,
            "layout": "IPY_MODEL_a729329a53f34022b7d420ee05560752",
            "placeholder": "​",
            "style": "IPY_MODEL_576854c8e5c342d89c8d5ffc33089acc",
            "value": " 4/4 [00:04&lt;00:00,  1.25s/ file]"
          }
        },
        "f145782b240246768e76226cc8a28b93": {
          "model_module": "@jupyter-widgets/base",
          "model_name": "LayoutModel",
          "model_module_version": "1.2.0",
          "state": {
            "_model_module": "@jupyter-widgets/base",
            "_model_module_version": "1.2.0",
            "_model_name": "LayoutModel",
            "_view_count": null,
            "_view_module": "@jupyter-widgets/base",
            "_view_module_version": "1.2.0",
            "_view_name": "LayoutView",
            "align_content": null,
            "align_items": null,
            "align_self": null,
            "border": null,
            "bottom": null,
            "display": null,
            "flex": null,
            "flex_flow": null,
            "grid_area": null,
            "grid_auto_columns": null,
            "grid_auto_flow": null,
            "grid_auto_rows": null,
            "grid_column": null,
            "grid_gap": null,
            "grid_row": null,
            "grid_template_areas": null,
            "grid_template_columns": null,
            "grid_template_rows": null,
            "height": null,
            "justify_content": null,
            "justify_items": null,
            "left": null,
            "margin": null,
            "max_height": null,
            "max_width": null,
            "min_height": null,
            "min_width": null,
            "object_fit": null,
            "object_position": null,
            "order": null,
            "overflow": null,
            "overflow_x": null,
            "overflow_y": null,
            "padding": null,
            "right": null,
            "top": null,
            "visibility": null,
            "width": null
          }
        },
        "0cbbd849e4b04cf3bd070c7d0e212de6": {
          "model_module": "@jupyter-widgets/base",
          "model_name": "LayoutModel",
          "model_module_version": "1.2.0",
          "state": {
            "_model_module": "@jupyter-widgets/base",
            "_model_module_version": "1.2.0",
            "_model_name": "LayoutModel",
            "_view_count": null,
            "_view_module": "@jupyter-widgets/base",
            "_view_module_version": "1.2.0",
            "_view_name": "LayoutView",
            "align_content": null,
            "align_items": null,
            "align_self": null,
            "border": null,
            "bottom": null,
            "display": null,
            "flex": null,
            "flex_flow": null,
            "grid_area": null,
            "grid_auto_columns": null,
            "grid_auto_flow": null,
            "grid_auto_rows": null,
            "grid_column": null,
            "grid_gap": null,
            "grid_row": null,
            "grid_template_areas": null,
            "grid_template_columns": null,
            "grid_template_rows": null,
            "height": null,
            "justify_content": null,
            "justify_items": null,
            "left": null,
            "margin": null,
            "max_height": null,
            "max_width": null,
            "min_height": null,
            "min_width": null,
            "object_fit": null,
            "object_position": null,
            "order": null,
            "overflow": null,
            "overflow_x": null,
            "overflow_y": null,
            "padding": null,
            "right": null,
            "top": null,
            "visibility": null,
            "width": null
          }
        },
        "4b01df7850e94e66a2d8979ca1b44ff0": {
          "model_module": "@jupyter-widgets/controls",
          "model_name": "DescriptionStyleModel",
          "model_module_version": "1.5.0",
          "state": {
            "_model_module": "@jupyter-widgets/controls",
            "_model_module_version": "1.5.0",
            "_model_name": "DescriptionStyleModel",
            "_view_count": null,
            "_view_module": "@jupyter-widgets/base",
            "_view_module_version": "1.2.0",
            "_view_name": "StyleView",
            "description_width": ""
          }
        },
        "7f2f7610c9b245b08cbf3403870f98ac": {
          "model_module": "@jupyter-widgets/base",
          "model_name": "LayoutModel",
          "model_module_version": "1.2.0",
          "state": {
            "_model_module": "@jupyter-widgets/base",
            "_model_module_version": "1.2.0",
            "_model_name": "LayoutModel",
            "_view_count": null,
            "_view_module": "@jupyter-widgets/base",
            "_view_module_version": "1.2.0",
            "_view_name": "LayoutView",
            "align_content": null,
            "align_items": null,
            "align_self": null,
            "border": null,
            "bottom": null,
            "display": null,
            "flex": null,
            "flex_flow": null,
            "grid_area": null,
            "grid_auto_columns": null,
            "grid_auto_flow": null,
            "grid_auto_rows": null,
            "grid_column": null,
            "grid_gap": null,
            "grid_row": null,
            "grid_template_areas": null,
            "grid_template_columns": null,
            "grid_template_rows": null,
            "height": null,
            "justify_content": null,
            "justify_items": null,
            "left": null,
            "margin": null,
            "max_height": null,
            "max_width": null,
            "min_height": null,
            "min_width": null,
            "object_fit": null,
            "object_position": null,
            "order": null,
            "overflow": null,
            "overflow_x": null,
            "overflow_y": null,
            "padding": null,
            "right": null,
            "top": null,
            "visibility": null,
            "width": "20px"
          }
        },
        "3c3dcd5ddd064465b30e0eb00032591f": {
          "model_module": "@jupyter-widgets/controls",
          "model_name": "ProgressStyleModel",
          "model_module_version": "1.5.0",
          "state": {
            "_model_module": "@jupyter-widgets/controls",
            "_model_module_version": "1.5.0",
            "_model_name": "ProgressStyleModel",
            "_view_count": null,
            "_view_module": "@jupyter-widgets/base",
            "_view_module_version": "1.2.0",
            "_view_name": "StyleView",
            "bar_color": null,
            "description_width": ""
          }
        },
        "a729329a53f34022b7d420ee05560752": {
          "model_module": "@jupyter-widgets/base",
          "model_name": "LayoutModel",
          "model_module_version": "1.2.0",
          "state": {
            "_model_module": "@jupyter-widgets/base",
            "_model_module_version": "1.2.0",
            "_model_name": "LayoutModel",
            "_view_count": null,
            "_view_module": "@jupyter-widgets/base",
            "_view_module_version": "1.2.0",
            "_view_name": "LayoutView",
            "align_content": null,
            "align_items": null,
            "align_self": null,
            "border": null,
            "bottom": null,
            "display": null,
            "flex": null,
            "flex_flow": null,
            "grid_area": null,
            "grid_auto_columns": null,
            "grid_auto_flow": null,
            "grid_auto_rows": null,
            "grid_column": null,
            "grid_gap": null,
            "grid_row": null,
            "grid_template_areas": null,
            "grid_template_columns": null,
            "grid_template_rows": null,
            "height": null,
            "justify_content": null,
            "justify_items": null,
            "left": null,
            "margin": null,
            "max_height": null,
            "max_width": null,
            "min_height": null,
            "min_width": null,
            "object_fit": null,
            "object_position": null,
            "order": null,
            "overflow": null,
            "overflow_x": null,
            "overflow_y": null,
            "padding": null,
            "right": null,
            "top": null,
            "visibility": null,
            "width": null
          }
        },
        "576854c8e5c342d89c8d5ffc33089acc": {
          "model_module": "@jupyter-widgets/controls",
          "model_name": "DescriptionStyleModel",
          "model_module_version": "1.5.0",
          "state": {
            "_model_module": "@jupyter-widgets/controls",
            "_model_module_version": "1.5.0",
            "_model_name": "DescriptionStyleModel",
            "_view_count": null,
            "_view_module": "@jupyter-widgets/base",
            "_view_module_version": "1.2.0",
            "_view_name": "StyleView",
            "description_width": ""
          }
        },
        "722082935c0644668c2b4e3e2735ed32": {
          "model_module": "@jupyter-widgets/controls",
          "model_name": "HBoxModel",
          "model_module_version": "1.5.0",
          "state": {
            "_dom_classes": [],
            "_model_module": "@jupyter-widgets/controls",
            "_model_module_version": "1.5.0",
            "_model_name": "HBoxModel",
            "_view_count": null,
            "_view_module": "@jupyter-widgets/controls",
            "_view_module_version": "1.5.0",
            "_view_name": "HBoxView",
            "box_style": "",
            "children": [
              "IPY_MODEL_c51c485ca8874920a3928d094432028c",
              "IPY_MODEL_82cfb8178ab74a789e49ad2420572fb7",
              "IPY_MODEL_c6a57002ecb54431a13995e4ffb1e27e"
            ],
            "layout": "IPY_MODEL_6fc46aaef5394cce8f90788cbd0d9737"
          }
        },
        "c51c485ca8874920a3928d094432028c": {
          "model_module": "@jupyter-widgets/controls",
          "model_name": "HTMLModel",
          "model_module_version": "1.5.0",
          "state": {
            "_dom_classes": [],
            "_model_module": "@jupyter-widgets/controls",
            "_model_module_version": "1.5.0",
            "_model_name": "HTMLModel",
            "_view_count": null,
            "_view_module": "@jupyter-widgets/controls",
            "_view_module_version": "1.5.0",
            "_view_name": "HTMLView",
            "description": "",
            "description_tooltip": null,
            "layout": "IPY_MODEL_e3c2a292d777468c997dc7593fe58385",
            "placeholder": "​",
            "style": "IPY_MODEL_ff6258a98a6e4f03ab50c38545d40cfe",
            "value": "Generating splits...: 100%"
          }
        },
        "82cfb8178ab74a789e49ad2420572fb7": {
          "model_module": "@jupyter-widgets/controls",
          "model_name": "FloatProgressModel",
          "model_module_version": "1.5.0",
          "state": {
            "_dom_classes": [],
            "_model_module": "@jupyter-widgets/controls",
            "_model_module_version": "1.5.0",
            "_model_name": "FloatProgressModel",
            "_view_count": null,
            "_view_module": "@jupyter-widgets/controls",
            "_view_module_version": "1.5.0",
            "_view_name": "ProgressView",
            "bar_style": "",
            "description": "",
            "description_tooltip": null,
            "layout": "IPY_MODEL_57660df6761343a1b4433fa6dadb821d",
            "max": 2,
            "min": 0,
            "orientation": "horizontal",
            "style": "IPY_MODEL_121f77aed6e7483d9377d980e52cb70f",
            "value": 2
          }
        },
        "c6a57002ecb54431a13995e4ffb1e27e": {
          "model_module": "@jupyter-widgets/controls",
          "model_name": "HTMLModel",
          "model_module_version": "1.5.0",
          "state": {
            "_dom_classes": [],
            "_model_module": "@jupyter-widgets/controls",
            "_model_module_version": "1.5.0",
            "_model_name": "HTMLModel",
            "_view_count": null,
            "_view_module": "@jupyter-widgets/controls",
            "_view_module_version": "1.5.0",
            "_view_name": "HTMLView",
            "description": "",
            "description_tooltip": null,
            "layout": "IPY_MODEL_3da3a5097d6e4c80933ce93701e3067d",
            "placeholder": "​",
            "style": "IPY_MODEL_dfef902f246c435f9c6d201752deccc2",
            "value": " 2/2 [00:50&lt;00:00, 22.07s/ splits]"
          }
        },
        "6fc46aaef5394cce8f90788cbd0d9737": {
          "model_module": "@jupyter-widgets/base",
          "model_name": "LayoutModel",
          "model_module_version": "1.2.0",
          "state": {
            "_model_module": "@jupyter-widgets/base",
            "_model_module_version": "1.2.0",
            "_model_name": "LayoutModel",
            "_view_count": null,
            "_view_module": "@jupyter-widgets/base",
            "_view_module_version": "1.2.0",
            "_view_name": "LayoutView",
            "align_content": null,
            "align_items": null,
            "align_self": null,
            "border": null,
            "bottom": null,
            "display": null,
            "flex": null,
            "flex_flow": null,
            "grid_area": null,
            "grid_auto_columns": null,
            "grid_auto_flow": null,
            "grid_auto_rows": null,
            "grid_column": null,
            "grid_gap": null,
            "grid_row": null,
            "grid_template_areas": null,
            "grid_template_columns": null,
            "grid_template_rows": null,
            "height": null,
            "justify_content": null,
            "justify_items": null,
            "left": null,
            "margin": null,
            "max_height": null,
            "max_width": null,
            "min_height": null,
            "min_width": null,
            "object_fit": null,
            "object_position": null,
            "order": null,
            "overflow": null,
            "overflow_x": null,
            "overflow_y": null,
            "padding": null,
            "right": null,
            "top": null,
            "visibility": "hidden",
            "width": null
          }
        },
        "e3c2a292d777468c997dc7593fe58385": {
          "model_module": "@jupyter-widgets/base",
          "model_name": "LayoutModel",
          "model_module_version": "1.2.0",
          "state": {
            "_model_module": "@jupyter-widgets/base",
            "_model_module_version": "1.2.0",
            "_model_name": "LayoutModel",
            "_view_count": null,
            "_view_module": "@jupyter-widgets/base",
            "_view_module_version": "1.2.0",
            "_view_name": "LayoutView",
            "align_content": null,
            "align_items": null,
            "align_self": null,
            "border": null,
            "bottom": null,
            "display": null,
            "flex": null,
            "flex_flow": null,
            "grid_area": null,
            "grid_auto_columns": null,
            "grid_auto_flow": null,
            "grid_auto_rows": null,
            "grid_column": null,
            "grid_gap": null,
            "grid_row": null,
            "grid_template_areas": null,
            "grid_template_columns": null,
            "grid_template_rows": null,
            "height": null,
            "justify_content": null,
            "justify_items": null,
            "left": null,
            "margin": null,
            "max_height": null,
            "max_width": null,
            "min_height": null,
            "min_width": null,
            "object_fit": null,
            "object_position": null,
            "order": null,
            "overflow": null,
            "overflow_x": null,
            "overflow_y": null,
            "padding": null,
            "right": null,
            "top": null,
            "visibility": null,
            "width": null
          }
        },
        "ff6258a98a6e4f03ab50c38545d40cfe": {
          "model_module": "@jupyter-widgets/controls",
          "model_name": "DescriptionStyleModel",
          "model_module_version": "1.5.0",
          "state": {
            "_model_module": "@jupyter-widgets/controls",
            "_model_module_version": "1.5.0",
            "_model_name": "DescriptionStyleModel",
            "_view_count": null,
            "_view_module": "@jupyter-widgets/base",
            "_view_module_version": "1.2.0",
            "_view_name": "StyleView",
            "description_width": ""
          }
        },
        "57660df6761343a1b4433fa6dadb821d": {
          "model_module": "@jupyter-widgets/base",
          "model_name": "LayoutModel",
          "model_module_version": "1.2.0",
          "state": {
            "_model_module": "@jupyter-widgets/base",
            "_model_module_version": "1.2.0",
            "_model_name": "LayoutModel",
            "_view_count": null,
            "_view_module": "@jupyter-widgets/base",
            "_view_module_version": "1.2.0",
            "_view_name": "LayoutView",
            "align_content": null,
            "align_items": null,
            "align_self": null,
            "border": null,
            "bottom": null,
            "display": null,
            "flex": null,
            "flex_flow": null,
            "grid_area": null,
            "grid_auto_columns": null,
            "grid_auto_flow": null,
            "grid_auto_rows": null,
            "grid_column": null,
            "grid_gap": null,
            "grid_row": null,
            "grid_template_areas": null,
            "grid_template_columns": null,
            "grid_template_rows": null,
            "height": null,
            "justify_content": null,
            "justify_items": null,
            "left": null,
            "margin": null,
            "max_height": null,
            "max_width": null,
            "min_height": null,
            "min_width": null,
            "object_fit": null,
            "object_position": null,
            "order": null,
            "overflow": null,
            "overflow_x": null,
            "overflow_y": null,
            "padding": null,
            "right": null,
            "top": null,
            "visibility": null,
            "width": null
          }
        },
        "121f77aed6e7483d9377d980e52cb70f": {
          "model_module": "@jupyter-widgets/controls",
          "model_name": "ProgressStyleModel",
          "model_module_version": "1.5.0",
          "state": {
            "_model_module": "@jupyter-widgets/controls",
            "_model_module_version": "1.5.0",
            "_model_name": "ProgressStyleModel",
            "_view_count": null,
            "_view_module": "@jupyter-widgets/base",
            "_view_module_version": "1.2.0",
            "_view_name": "StyleView",
            "bar_color": null,
            "description_width": ""
          }
        },
        "3da3a5097d6e4c80933ce93701e3067d": {
          "model_module": "@jupyter-widgets/base",
          "model_name": "LayoutModel",
          "model_module_version": "1.2.0",
          "state": {
            "_model_module": "@jupyter-widgets/base",
            "_model_module_version": "1.2.0",
            "_model_name": "LayoutModel",
            "_view_count": null,
            "_view_module": "@jupyter-widgets/base",
            "_view_module_version": "1.2.0",
            "_view_name": "LayoutView",
            "align_content": null,
            "align_items": null,
            "align_self": null,
            "border": null,
            "bottom": null,
            "display": null,
            "flex": null,
            "flex_flow": null,
            "grid_area": null,
            "grid_auto_columns": null,
            "grid_auto_flow": null,
            "grid_auto_rows": null,
            "grid_column": null,
            "grid_gap": null,
            "grid_row": null,
            "grid_template_areas": null,
            "grid_template_columns": null,
            "grid_template_rows": null,
            "height": null,
            "justify_content": null,
            "justify_items": null,
            "left": null,
            "margin": null,
            "max_height": null,
            "max_width": null,
            "min_height": null,
            "min_width": null,
            "object_fit": null,
            "object_position": null,
            "order": null,
            "overflow": null,
            "overflow_x": null,
            "overflow_y": null,
            "padding": null,
            "right": null,
            "top": null,
            "visibility": null,
            "width": null
          }
        },
        "dfef902f246c435f9c6d201752deccc2": {
          "model_module": "@jupyter-widgets/controls",
          "model_name": "DescriptionStyleModel",
          "model_module_version": "1.5.0",
          "state": {
            "_model_module": "@jupyter-widgets/controls",
            "_model_module_version": "1.5.0",
            "_model_name": "DescriptionStyleModel",
            "_view_count": null,
            "_view_module": "@jupyter-widgets/base",
            "_view_module_version": "1.2.0",
            "_view_name": "StyleView",
            "description_width": ""
          }
        },
        "fa875db2ba434cd0bb5894b71b05cad3": {
          "model_module": "@jupyter-widgets/controls",
          "model_name": "HBoxModel",
          "model_module_version": "1.5.0",
          "state": {
            "_dom_classes": [],
            "_model_module": "@jupyter-widgets/controls",
            "_model_module_version": "1.5.0",
            "_model_name": "HBoxModel",
            "_view_count": null,
            "_view_module": "@jupyter-widgets/controls",
            "_view_module_version": "1.5.0",
            "_view_name": "HBoxView",
            "box_style": "",
            "children": [
              "IPY_MODEL_fb9ac1e87b4c4bc69f8e2114360e1d15",
              "IPY_MODEL_9637f341a285429d940f72b9ed5aadea",
              "IPY_MODEL_3b5208d689eb4f10a745d06cbe191fd9"
            ],
            "layout": "IPY_MODEL_d46ef0621e124a0ba92aeccd44f7c16d"
          }
        },
        "fb9ac1e87b4c4bc69f8e2114360e1d15": {
          "model_module": "@jupyter-widgets/controls",
          "model_name": "HTMLModel",
          "model_module_version": "1.5.0",
          "state": {
            "_dom_classes": [],
            "_model_module": "@jupyter-widgets/controls",
            "_model_module_version": "1.5.0",
            "_model_name": "HTMLModel",
            "_view_count": null,
            "_view_module": "@jupyter-widgets/controls",
            "_view_module_version": "1.5.0",
            "_view_name": "HTMLView",
            "description": "",
            "description_tooltip": null,
            "layout": "IPY_MODEL_6a4ac6e5878449aa9df51881a350e62a",
            "placeholder": "​",
            "style": "IPY_MODEL_a9d8139c8212435eaed4b4f91d8d1f58",
            "value": "Generating train examples...: "
          }
        },
        "9637f341a285429d940f72b9ed5aadea": {
          "model_module": "@jupyter-widgets/controls",
          "model_name": "FloatProgressModel",
          "model_module_version": "1.5.0",
          "state": {
            "_dom_classes": [],
            "_model_module": "@jupyter-widgets/controls",
            "_model_module_version": "1.5.0",
            "_model_name": "FloatProgressModel",
            "_view_count": null,
            "_view_module": "@jupyter-widgets/controls",
            "_view_module_version": "1.5.0",
            "_view_name": "ProgressView",
            "bar_style": "info",
            "description": "",
            "description_tooltip": null,
            "layout": "IPY_MODEL_7750d279f55f4598af03e2d38117dff9",
            "max": 1,
            "min": 0,
            "orientation": "horizontal",
            "style": "IPY_MODEL_232fdca27b9443ac8d6b26d1d32a4410",
            "value": 1
          }
        },
        "3b5208d689eb4f10a745d06cbe191fd9": {
          "model_module": "@jupyter-widgets/controls",
          "model_name": "HTMLModel",
          "model_module_version": "1.5.0",
          "state": {
            "_dom_classes": [],
            "_model_module": "@jupyter-widgets/controls",
            "_model_module_version": "1.5.0",
            "_model_name": "HTMLModel",
            "_view_count": null,
            "_view_module": "@jupyter-widgets/controls",
            "_view_module_version": "1.5.0",
            "_view_name": "HTMLView",
            "description": "",
            "description_tooltip": null,
            "layout": "IPY_MODEL_b88ff71d290e43daac818bbf7b043c4d",
            "placeholder": "​",
            "style": "IPY_MODEL_d8bd8bec4cf74608ab217485ed10525f",
            "value": " 58343/? [00:43&lt;00:00, 1491.74 examples/s]"
          }
        },
        "d46ef0621e124a0ba92aeccd44f7c16d": {
          "model_module": "@jupyter-widgets/base",
          "model_name": "LayoutModel",
          "model_module_version": "1.2.0",
          "state": {
            "_model_module": "@jupyter-widgets/base",
            "_model_module_version": "1.2.0",
            "_model_name": "LayoutModel",
            "_view_count": null,
            "_view_module": "@jupyter-widgets/base",
            "_view_module_version": "1.2.0",
            "_view_name": "LayoutView",
            "align_content": null,
            "align_items": null,
            "align_self": null,
            "border": null,
            "bottom": null,
            "display": null,
            "flex": null,
            "flex_flow": null,
            "grid_area": null,
            "grid_auto_columns": null,
            "grid_auto_flow": null,
            "grid_auto_rows": null,
            "grid_column": null,
            "grid_gap": null,
            "grid_row": null,
            "grid_template_areas": null,
            "grid_template_columns": null,
            "grid_template_rows": null,
            "height": null,
            "justify_content": null,
            "justify_items": null,
            "left": null,
            "margin": null,
            "max_height": null,
            "max_width": null,
            "min_height": null,
            "min_width": null,
            "object_fit": null,
            "object_position": null,
            "order": null,
            "overflow": null,
            "overflow_x": null,
            "overflow_y": null,
            "padding": null,
            "right": null,
            "top": null,
            "visibility": "hidden",
            "width": null
          }
        },
        "6a4ac6e5878449aa9df51881a350e62a": {
          "model_module": "@jupyter-widgets/base",
          "model_name": "LayoutModel",
          "model_module_version": "1.2.0",
          "state": {
            "_model_module": "@jupyter-widgets/base",
            "_model_module_version": "1.2.0",
            "_model_name": "LayoutModel",
            "_view_count": null,
            "_view_module": "@jupyter-widgets/base",
            "_view_module_version": "1.2.0",
            "_view_name": "LayoutView",
            "align_content": null,
            "align_items": null,
            "align_self": null,
            "border": null,
            "bottom": null,
            "display": null,
            "flex": null,
            "flex_flow": null,
            "grid_area": null,
            "grid_auto_columns": null,
            "grid_auto_flow": null,
            "grid_auto_rows": null,
            "grid_column": null,
            "grid_gap": null,
            "grid_row": null,
            "grid_template_areas": null,
            "grid_template_columns": null,
            "grid_template_rows": null,
            "height": null,
            "justify_content": null,
            "justify_items": null,
            "left": null,
            "margin": null,
            "max_height": null,
            "max_width": null,
            "min_height": null,
            "min_width": null,
            "object_fit": null,
            "object_position": null,
            "order": null,
            "overflow": null,
            "overflow_x": null,
            "overflow_y": null,
            "padding": null,
            "right": null,
            "top": null,
            "visibility": null,
            "width": null
          }
        },
        "a9d8139c8212435eaed4b4f91d8d1f58": {
          "model_module": "@jupyter-widgets/controls",
          "model_name": "DescriptionStyleModel",
          "model_module_version": "1.5.0",
          "state": {
            "_model_module": "@jupyter-widgets/controls",
            "_model_module_version": "1.5.0",
            "_model_name": "DescriptionStyleModel",
            "_view_count": null,
            "_view_module": "@jupyter-widgets/base",
            "_view_module_version": "1.2.0",
            "_view_name": "StyleView",
            "description_width": ""
          }
        },
        "7750d279f55f4598af03e2d38117dff9": {
          "model_module": "@jupyter-widgets/base",
          "model_name": "LayoutModel",
          "model_module_version": "1.2.0",
          "state": {
            "_model_module": "@jupyter-widgets/base",
            "_model_module_version": "1.2.0",
            "_model_name": "LayoutModel",
            "_view_count": null,
            "_view_module": "@jupyter-widgets/base",
            "_view_module_version": "1.2.0",
            "_view_name": "LayoutView",
            "align_content": null,
            "align_items": null,
            "align_self": null,
            "border": null,
            "bottom": null,
            "display": null,
            "flex": null,
            "flex_flow": null,
            "grid_area": null,
            "grid_auto_columns": null,
            "grid_auto_flow": null,
            "grid_auto_rows": null,
            "grid_column": null,
            "grid_gap": null,
            "grid_row": null,
            "grid_template_areas": null,
            "grid_template_columns": null,
            "grid_template_rows": null,
            "height": null,
            "justify_content": null,
            "justify_items": null,
            "left": null,
            "margin": null,
            "max_height": null,
            "max_width": null,
            "min_height": null,
            "min_width": null,
            "object_fit": null,
            "object_position": null,
            "order": null,
            "overflow": null,
            "overflow_x": null,
            "overflow_y": null,
            "padding": null,
            "right": null,
            "top": null,
            "visibility": null,
            "width": "20px"
          }
        },
        "232fdca27b9443ac8d6b26d1d32a4410": {
          "model_module": "@jupyter-widgets/controls",
          "model_name": "ProgressStyleModel",
          "model_module_version": "1.5.0",
          "state": {
            "_model_module": "@jupyter-widgets/controls",
            "_model_module_version": "1.5.0",
            "_model_name": "ProgressStyleModel",
            "_view_count": null,
            "_view_module": "@jupyter-widgets/base",
            "_view_module_version": "1.2.0",
            "_view_name": "StyleView",
            "bar_color": null,
            "description_width": ""
          }
        },
        "b88ff71d290e43daac818bbf7b043c4d": {
          "model_module": "@jupyter-widgets/base",
          "model_name": "LayoutModel",
          "model_module_version": "1.2.0",
          "state": {
            "_model_module": "@jupyter-widgets/base",
            "_model_module_version": "1.2.0",
            "_model_name": "LayoutModel",
            "_view_count": null,
            "_view_module": "@jupyter-widgets/base",
            "_view_module_version": "1.2.0",
            "_view_name": "LayoutView",
            "align_content": null,
            "align_items": null,
            "align_self": null,
            "border": null,
            "bottom": null,
            "display": null,
            "flex": null,
            "flex_flow": null,
            "grid_area": null,
            "grid_auto_columns": null,
            "grid_auto_flow": null,
            "grid_auto_rows": null,
            "grid_column": null,
            "grid_gap": null,
            "grid_row": null,
            "grid_template_areas": null,
            "grid_template_columns": null,
            "grid_template_rows": null,
            "height": null,
            "justify_content": null,
            "justify_items": null,
            "left": null,
            "margin": null,
            "max_height": null,
            "max_width": null,
            "min_height": null,
            "min_width": null,
            "object_fit": null,
            "object_position": null,
            "order": null,
            "overflow": null,
            "overflow_x": null,
            "overflow_y": null,
            "padding": null,
            "right": null,
            "top": null,
            "visibility": null,
            "width": null
          }
        },
        "d8bd8bec4cf74608ab217485ed10525f": {
          "model_module": "@jupyter-widgets/controls",
          "model_name": "DescriptionStyleModel",
          "model_module_version": "1.5.0",
          "state": {
            "_model_module": "@jupyter-widgets/controls",
            "_model_module_version": "1.5.0",
            "_model_name": "DescriptionStyleModel",
            "_view_count": null,
            "_view_module": "@jupyter-widgets/base",
            "_view_module_version": "1.2.0",
            "_view_name": "StyleView",
            "description_width": ""
          }
        },
        "f539a82764e547b2a97a0956160be698": {
          "model_module": "@jupyter-widgets/controls",
          "model_name": "HBoxModel",
          "model_module_version": "1.5.0",
          "state": {
            "_dom_classes": [],
            "_model_module": "@jupyter-widgets/controls",
            "_model_module_version": "1.5.0",
            "_model_name": "HBoxModel",
            "_view_count": null,
            "_view_module": "@jupyter-widgets/controls",
            "_view_module_version": "1.5.0",
            "_view_name": "HBoxView",
            "box_style": "",
            "children": [
              "IPY_MODEL_bd330c7944544b67acd972cb3e662366",
              "IPY_MODEL_712c1ad8701b4669908555e25fef3074",
              "IPY_MODEL_75b0ad5da87d45718aa6eb5c1889ec24"
            ],
            "layout": "IPY_MODEL_370796c3e8ec4d819c29331fad2774d1"
          }
        },
        "bd330c7944544b67acd972cb3e662366": {
          "model_module": "@jupyter-widgets/controls",
          "model_name": "HTMLModel",
          "model_module_version": "1.5.0",
          "state": {
            "_dom_classes": [],
            "_model_module": "@jupyter-widgets/controls",
            "_model_module_version": "1.5.0",
            "_model_name": "HTMLModel",
            "_view_count": null,
            "_view_module": "@jupyter-widgets/controls",
            "_view_module_version": "1.5.0",
            "_view_name": "HTMLView",
            "description": "",
            "description_tooltip": null,
            "layout": "IPY_MODEL_07029b9519404e3d8d249f7f0a114bb5",
            "placeholder": "​",
            "style": "IPY_MODEL_b1c450ae064b4700a84b8bc01aeb0112",
            "value": "Shuffling /root/tensorflow_datasets/mnist/incomplete.K9V6H9_3.0.1/mnist-train.tfrecord*...:   0%"
          }
        },
        "712c1ad8701b4669908555e25fef3074": {
          "model_module": "@jupyter-widgets/controls",
          "model_name": "FloatProgressModel",
          "model_module_version": "1.5.0",
          "state": {
            "_dom_classes": [],
            "_model_module": "@jupyter-widgets/controls",
            "_model_module_version": "1.5.0",
            "_model_name": "FloatProgressModel",
            "_view_count": null,
            "_view_module": "@jupyter-widgets/controls",
            "_view_module_version": "1.5.0",
            "_view_name": "ProgressView",
            "bar_style": "",
            "description": "",
            "description_tooltip": null,
            "layout": "IPY_MODEL_22770db167e04304a16e89454b7034e4",
            "max": 60000,
            "min": 0,
            "orientation": "horizontal",
            "style": "IPY_MODEL_31ba43d43d6646ca9784e0e88031695a",
            "value": 60000
          }
        },
        "75b0ad5da87d45718aa6eb5c1889ec24": {
          "model_module": "@jupyter-widgets/controls",
          "model_name": "HTMLModel",
          "model_module_version": "1.5.0",
          "state": {
            "_dom_classes": [],
            "_model_module": "@jupyter-widgets/controls",
            "_model_module_version": "1.5.0",
            "_model_name": "HTMLModel",
            "_view_count": null,
            "_view_module": "@jupyter-widgets/controls",
            "_view_module_version": "1.5.0",
            "_view_name": "HTMLView",
            "description": "",
            "description_tooltip": null,
            "layout": "IPY_MODEL_0acec4adf9184323a0e4b8c54f9f8274",
            "placeholder": "​",
            "style": "IPY_MODEL_ba95dbb90c8947d89f5d122881e4892a",
            "value": " 0/60000 [00:00&lt;?, ? examples/s]"
          }
        },
        "370796c3e8ec4d819c29331fad2774d1": {
          "model_module": "@jupyter-widgets/base",
          "model_name": "LayoutModel",
          "model_module_version": "1.2.0",
          "state": {
            "_model_module": "@jupyter-widgets/base",
            "_model_module_version": "1.2.0",
            "_model_name": "LayoutModel",
            "_view_count": null,
            "_view_module": "@jupyter-widgets/base",
            "_view_module_version": "1.2.0",
            "_view_name": "LayoutView",
            "align_content": null,
            "align_items": null,
            "align_self": null,
            "border": null,
            "bottom": null,
            "display": null,
            "flex": null,
            "flex_flow": null,
            "grid_area": null,
            "grid_auto_columns": null,
            "grid_auto_flow": null,
            "grid_auto_rows": null,
            "grid_column": null,
            "grid_gap": null,
            "grid_row": null,
            "grid_template_areas": null,
            "grid_template_columns": null,
            "grid_template_rows": null,
            "height": null,
            "justify_content": null,
            "justify_items": null,
            "left": null,
            "margin": null,
            "max_height": null,
            "max_width": null,
            "min_height": null,
            "min_width": null,
            "object_fit": null,
            "object_position": null,
            "order": null,
            "overflow": null,
            "overflow_x": null,
            "overflow_y": null,
            "padding": null,
            "right": null,
            "top": null,
            "visibility": "hidden",
            "width": null
          }
        },
        "07029b9519404e3d8d249f7f0a114bb5": {
          "model_module": "@jupyter-widgets/base",
          "model_name": "LayoutModel",
          "model_module_version": "1.2.0",
          "state": {
            "_model_module": "@jupyter-widgets/base",
            "_model_module_version": "1.2.0",
            "_model_name": "LayoutModel",
            "_view_count": null,
            "_view_module": "@jupyter-widgets/base",
            "_view_module_version": "1.2.0",
            "_view_name": "LayoutView",
            "align_content": null,
            "align_items": null,
            "align_self": null,
            "border": null,
            "bottom": null,
            "display": null,
            "flex": null,
            "flex_flow": null,
            "grid_area": null,
            "grid_auto_columns": null,
            "grid_auto_flow": null,
            "grid_auto_rows": null,
            "grid_column": null,
            "grid_gap": null,
            "grid_row": null,
            "grid_template_areas": null,
            "grid_template_columns": null,
            "grid_template_rows": null,
            "height": null,
            "justify_content": null,
            "justify_items": null,
            "left": null,
            "margin": null,
            "max_height": null,
            "max_width": null,
            "min_height": null,
            "min_width": null,
            "object_fit": null,
            "object_position": null,
            "order": null,
            "overflow": null,
            "overflow_x": null,
            "overflow_y": null,
            "padding": null,
            "right": null,
            "top": null,
            "visibility": null,
            "width": null
          }
        },
        "b1c450ae064b4700a84b8bc01aeb0112": {
          "model_module": "@jupyter-widgets/controls",
          "model_name": "DescriptionStyleModel",
          "model_module_version": "1.5.0",
          "state": {
            "_model_module": "@jupyter-widgets/controls",
            "_model_module_version": "1.5.0",
            "_model_name": "DescriptionStyleModel",
            "_view_count": null,
            "_view_module": "@jupyter-widgets/base",
            "_view_module_version": "1.2.0",
            "_view_name": "StyleView",
            "description_width": ""
          }
        },
        "22770db167e04304a16e89454b7034e4": {
          "model_module": "@jupyter-widgets/base",
          "model_name": "LayoutModel",
          "model_module_version": "1.2.0",
          "state": {
            "_model_module": "@jupyter-widgets/base",
            "_model_module_version": "1.2.0",
            "_model_name": "LayoutModel",
            "_view_count": null,
            "_view_module": "@jupyter-widgets/base",
            "_view_module_version": "1.2.0",
            "_view_name": "LayoutView",
            "align_content": null,
            "align_items": null,
            "align_self": null,
            "border": null,
            "bottom": null,
            "display": null,
            "flex": null,
            "flex_flow": null,
            "grid_area": null,
            "grid_auto_columns": null,
            "grid_auto_flow": null,
            "grid_auto_rows": null,
            "grid_column": null,
            "grid_gap": null,
            "grid_row": null,
            "grid_template_areas": null,
            "grid_template_columns": null,
            "grid_template_rows": null,
            "height": null,
            "justify_content": null,
            "justify_items": null,
            "left": null,
            "margin": null,
            "max_height": null,
            "max_width": null,
            "min_height": null,
            "min_width": null,
            "object_fit": null,
            "object_position": null,
            "order": null,
            "overflow": null,
            "overflow_x": null,
            "overflow_y": null,
            "padding": null,
            "right": null,
            "top": null,
            "visibility": null,
            "width": null
          }
        },
        "31ba43d43d6646ca9784e0e88031695a": {
          "model_module": "@jupyter-widgets/controls",
          "model_name": "ProgressStyleModel",
          "model_module_version": "1.5.0",
          "state": {
            "_model_module": "@jupyter-widgets/controls",
            "_model_module_version": "1.5.0",
            "_model_name": "ProgressStyleModel",
            "_view_count": null,
            "_view_module": "@jupyter-widgets/base",
            "_view_module_version": "1.2.0",
            "_view_name": "StyleView",
            "bar_color": null,
            "description_width": ""
          }
        },
        "0acec4adf9184323a0e4b8c54f9f8274": {
          "model_module": "@jupyter-widgets/base",
          "model_name": "LayoutModel",
          "model_module_version": "1.2.0",
          "state": {
            "_model_module": "@jupyter-widgets/base",
            "_model_module_version": "1.2.0",
            "_model_name": "LayoutModel",
            "_view_count": null,
            "_view_module": "@jupyter-widgets/base",
            "_view_module_version": "1.2.0",
            "_view_name": "LayoutView",
            "align_content": null,
            "align_items": null,
            "align_self": null,
            "border": null,
            "bottom": null,
            "display": null,
            "flex": null,
            "flex_flow": null,
            "grid_area": null,
            "grid_auto_columns": null,
            "grid_auto_flow": null,
            "grid_auto_rows": null,
            "grid_column": null,
            "grid_gap": null,
            "grid_row": null,
            "grid_template_areas": null,
            "grid_template_columns": null,
            "grid_template_rows": null,
            "height": null,
            "justify_content": null,
            "justify_items": null,
            "left": null,
            "margin": null,
            "max_height": null,
            "max_width": null,
            "min_height": null,
            "min_width": null,
            "object_fit": null,
            "object_position": null,
            "order": null,
            "overflow": null,
            "overflow_x": null,
            "overflow_y": null,
            "padding": null,
            "right": null,
            "top": null,
            "visibility": null,
            "width": null
          }
        },
        "ba95dbb90c8947d89f5d122881e4892a": {
          "model_module": "@jupyter-widgets/controls",
          "model_name": "DescriptionStyleModel",
          "model_module_version": "1.5.0",
          "state": {
            "_model_module": "@jupyter-widgets/controls",
            "_model_module_version": "1.5.0",
            "_model_name": "DescriptionStyleModel",
            "_view_count": null,
            "_view_module": "@jupyter-widgets/base",
            "_view_module_version": "1.2.0",
            "_view_name": "StyleView",
            "description_width": ""
          }
        },
        "38168e85e5a546b88de33d8bd247f034": {
          "model_module": "@jupyter-widgets/controls",
          "model_name": "HBoxModel",
          "model_module_version": "1.5.0",
          "state": {
            "_dom_classes": [],
            "_model_module": "@jupyter-widgets/controls",
            "_model_module_version": "1.5.0",
            "_model_name": "HBoxModel",
            "_view_count": null,
            "_view_module": "@jupyter-widgets/controls",
            "_view_module_version": "1.5.0",
            "_view_name": "HBoxView",
            "box_style": "",
            "children": [
              "IPY_MODEL_905f2fa607964d4180c056bce8b69786",
              "IPY_MODEL_a7f6987bdaf244f7972ab05d5de9e570",
              "IPY_MODEL_f62440445c594351b21342fc9f4bc6f7"
            ],
            "layout": "IPY_MODEL_9996b8a916b6447f8b6a146cc5a23cbd"
          }
        },
        "905f2fa607964d4180c056bce8b69786": {
          "model_module": "@jupyter-widgets/controls",
          "model_name": "HTMLModel",
          "model_module_version": "1.5.0",
          "state": {
            "_dom_classes": [],
            "_model_module": "@jupyter-widgets/controls",
            "_model_module_version": "1.5.0",
            "_model_name": "HTMLModel",
            "_view_count": null,
            "_view_module": "@jupyter-widgets/controls",
            "_view_module_version": "1.5.0",
            "_view_name": "HTMLView",
            "description": "",
            "description_tooltip": null,
            "layout": "IPY_MODEL_38fe9e53109d4ee68a0d15a5ff05a874",
            "placeholder": "​",
            "style": "IPY_MODEL_6d2c0483c8934f87945e4e548157dc03",
            "value": "Generating test examples...: "
          }
        },
        "a7f6987bdaf244f7972ab05d5de9e570": {
          "model_module": "@jupyter-widgets/controls",
          "model_name": "FloatProgressModel",
          "model_module_version": "1.5.0",
          "state": {
            "_dom_classes": [],
            "_model_module": "@jupyter-widgets/controls",
            "_model_module_version": "1.5.0",
            "_model_name": "FloatProgressModel",
            "_view_count": null,
            "_view_module": "@jupyter-widgets/controls",
            "_view_module_version": "1.5.0",
            "_view_name": "ProgressView",
            "bar_style": "info",
            "description": "",
            "description_tooltip": null,
            "layout": "IPY_MODEL_90a9f2a6fd824c4eb02df44095560e74",
            "max": 1,
            "min": 0,
            "orientation": "horizontal",
            "style": "IPY_MODEL_35fea57401e947649572812ffec9c3f9",
            "value": 1
          }
        },
        "f62440445c594351b21342fc9f4bc6f7": {
          "model_module": "@jupyter-widgets/controls",
          "model_name": "HTMLModel",
          "model_module_version": "1.5.0",
          "state": {
            "_dom_classes": [],
            "_model_module": "@jupyter-widgets/controls",
            "_model_module_version": "1.5.0",
            "_model_name": "HTMLModel",
            "_view_count": null,
            "_view_module": "@jupyter-widgets/controls",
            "_view_module_version": "1.5.0",
            "_view_name": "HTMLView",
            "description": "",
            "description_tooltip": null,
            "layout": "IPY_MODEL_f33ca17a87cb413487f2eb14b92a8e7d",
            "placeholder": "​",
            "style": "IPY_MODEL_1543890dc2e34c9ea97b06be4d70cd41",
            "value": " 9758/? [00:06&lt;00:00, 1597.82 examples/s]"
          }
        },
        "9996b8a916b6447f8b6a146cc5a23cbd": {
          "model_module": "@jupyter-widgets/base",
          "model_name": "LayoutModel",
          "model_module_version": "1.2.0",
          "state": {
            "_model_module": "@jupyter-widgets/base",
            "_model_module_version": "1.2.0",
            "_model_name": "LayoutModel",
            "_view_count": null,
            "_view_module": "@jupyter-widgets/base",
            "_view_module_version": "1.2.0",
            "_view_name": "LayoutView",
            "align_content": null,
            "align_items": null,
            "align_self": null,
            "border": null,
            "bottom": null,
            "display": null,
            "flex": null,
            "flex_flow": null,
            "grid_area": null,
            "grid_auto_columns": null,
            "grid_auto_flow": null,
            "grid_auto_rows": null,
            "grid_column": null,
            "grid_gap": null,
            "grid_row": null,
            "grid_template_areas": null,
            "grid_template_columns": null,
            "grid_template_rows": null,
            "height": null,
            "justify_content": null,
            "justify_items": null,
            "left": null,
            "margin": null,
            "max_height": null,
            "max_width": null,
            "min_height": null,
            "min_width": null,
            "object_fit": null,
            "object_position": null,
            "order": null,
            "overflow": null,
            "overflow_x": null,
            "overflow_y": null,
            "padding": null,
            "right": null,
            "top": null,
            "visibility": "hidden",
            "width": null
          }
        },
        "38fe9e53109d4ee68a0d15a5ff05a874": {
          "model_module": "@jupyter-widgets/base",
          "model_name": "LayoutModel",
          "model_module_version": "1.2.0",
          "state": {
            "_model_module": "@jupyter-widgets/base",
            "_model_module_version": "1.2.0",
            "_model_name": "LayoutModel",
            "_view_count": null,
            "_view_module": "@jupyter-widgets/base",
            "_view_module_version": "1.2.0",
            "_view_name": "LayoutView",
            "align_content": null,
            "align_items": null,
            "align_self": null,
            "border": null,
            "bottom": null,
            "display": null,
            "flex": null,
            "flex_flow": null,
            "grid_area": null,
            "grid_auto_columns": null,
            "grid_auto_flow": null,
            "grid_auto_rows": null,
            "grid_column": null,
            "grid_gap": null,
            "grid_row": null,
            "grid_template_areas": null,
            "grid_template_columns": null,
            "grid_template_rows": null,
            "height": null,
            "justify_content": null,
            "justify_items": null,
            "left": null,
            "margin": null,
            "max_height": null,
            "max_width": null,
            "min_height": null,
            "min_width": null,
            "object_fit": null,
            "object_position": null,
            "order": null,
            "overflow": null,
            "overflow_x": null,
            "overflow_y": null,
            "padding": null,
            "right": null,
            "top": null,
            "visibility": null,
            "width": null
          }
        },
        "6d2c0483c8934f87945e4e548157dc03": {
          "model_module": "@jupyter-widgets/controls",
          "model_name": "DescriptionStyleModel",
          "model_module_version": "1.5.0",
          "state": {
            "_model_module": "@jupyter-widgets/controls",
            "_model_module_version": "1.5.0",
            "_model_name": "DescriptionStyleModel",
            "_view_count": null,
            "_view_module": "@jupyter-widgets/base",
            "_view_module_version": "1.2.0",
            "_view_name": "StyleView",
            "description_width": ""
          }
        },
        "90a9f2a6fd824c4eb02df44095560e74": {
          "model_module": "@jupyter-widgets/base",
          "model_name": "LayoutModel",
          "model_module_version": "1.2.0",
          "state": {
            "_model_module": "@jupyter-widgets/base",
            "_model_module_version": "1.2.0",
            "_model_name": "LayoutModel",
            "_view_count": null,
            "_view_module": "@jupyter-widgets/base",
            "_view_module_version": "1.2.0",
            "_view_name": "LayoutView",
            "align_content": null,
            "align_items": null,
            "align_self": null,
            "border": null,
            "bottom": null,
            "display": null,
            "flex": null,
            "flex_flow": null,
            "grid_area": null,
            "grid_auto_columns": null,
            "grid_auto_flow": null,
            "grid_auto_rows": null,
            "grid_column": null,
            "grid_gap": null,
            "grid_row": null,
            "grid_template_areas": null,
            "grid_template_columns": null,
            "grid_template_rows": null,
            "height": null,
            "justify_content": null,
            "justify_items": null,
            "left": null,
            "margin": null,
            "max_height": null,
            "max_width": null,
            "min_height": null,
            "min_width": null,
            "object_fit": null,
            "object_position": null,
            "order": null,
            "overflow": null,
            "overflow_x": null,
            "overflow_y": null,
            "padding": null,
            "right": null,
            "top": null,
            "visibility": null,
            "width": "20px"
          }
        },
        "35fea57401e947649572812ffec9c3f9": {
          "model_module": "@jupyter-widgets/controls",
          "model_name": "ProgressStyleModel",
          "model_module_version": "1.5.0",
          "state": {
            "_model_module": "@jupyter-widgets/controls",
            "_model_module_version": "1.5.0",
            "_model_name": "ProgressStyleModel",
            "_view_count": null,
            "_view_module": "@jupyter-widgets/base",
            "_view_module_version": "1.2.0",
            "_view_name": "StyleView",
            "bar_color": null,
            "description_width": ""
          }
        },
        "f33ca17a87cb413487f2eb14b92a8e7d": {
          "model_module": "@jupyter-widgets/base",
          "model_name": "LayoutModel",
          "model_module_version": "1.2.0",
          "state": {
            "_model_module": "@jupyter-widgets/base",
            "_model_module_version": "1.2.0",
            "_model_name": "LayoutModel",
            "_view_count": null,
            "_view_module": "@jupyter-widgets/base",
            "_view_module_version": "1.2.0",
            "_view_name": "LayoutView",
            "align_content": null,
            "align_items": null,
            "align_self": null,
            "border": null,
            "bottom": null,
            "display": null,
            "flex": null,
            "flex_flow": null,
            "grid_area": null,
            "grid_auto_columns": null,
            "grid_auto_flow": null,
            "grid_auto_rows": null,
            "grid_column": null,
            "grid_gap": null,
            "grid_row": null,
            "grid_template_areas": null,
            "grid_template_columns": null,
            "grid_template_rows": null,
            "height": null,
            "justify_content": null,
            "justify_items": null,
            "left": null,
            "margin": null,
            "max_height": null,
            "max_width": null,
            "min_height": null,
            "min_width": null,
            "object_fit": null,
            "object_position": null,
            "order": null,
            "overflow": null,
            "overflow_x": null,
            "overflow_y": null,
            "padding": null,
            "right": null,
            "top": null,
            "visibility": null,
            "width": null
          }
        },
        "1543890dc2e34c9ea97b06be4d70cd41": {
          "model_module": "@jupyter-widgets/controls",
          "model_name": "DescriptionStyleModel",
          "model_module_version": "1.5.0",
          "state": {
            "_model_module": "@jupyter-widgets/controls",
            "_model_module_version": "1.5.0",
            "_model_name": "DescriptionStyleModel",
            "_view_count": null,
            "_view_module": "@jupyter-widgets/base",
            "_view_module_version": "1.2.0",
            "_view_name": "StyleView",
            "description_width": ""
          }
        },
        "44dce66b7c63487c93df723c6a8ea25d": {
          "model_module": "@jupyter-widgets/controls",
          "model_name": "HBoxModel",
          "model_module_version": "1.5.0",
          "state": {
            "_dom_classes": [],
            "_model_module": "@jupyter-widgets/controls",
            "_model_module_version": "1.5.0",
            "_model_name": "HBoxModel",
            "_view_count": null,
            "_view_module": "@jupyter-widgets/controls",
            "_view_module_version": "1.5.0",
            "_view_name": "HBoxView",
            "box_style": "",
            "children": [
              "IPY_MODEL_3187ff539df14c4daee8caaa651ae49c",
              "IPY_MODEL_395b4b64f53d49c9b8c14f4086a6081f",
              "IPY_MODEL_fd38f3b6c86a4dd4b6bc93c72f79acd6"
            ],
            "layout": "IPY_MODEL_e071dacceb174463b2901c91cbe14aa4"
          }
        },
        "3187ff539df14c4daee8caaa651ae49c": {
          "model_module": "@jupyter-widgets/controls",
          "model_name": "HTMLModel",
          "model_module_version": "1.5.0",
          "state": {
            "_dom_classes": [],
            "_model_module": "@jupyter-widgets/controls",
            "_model_module_version": "1.5.0",
            "_model_name": "HTMLModel",
            "_view_count": null,
            "_view_module": "@jupyter-widgets/controls",
            "_view_module_version": "1.5.0",
            "_view_name": "HTMLView",
            "description": "",
            "description_tooltip": null,
            "layout": "IPY_MODEL_cd7f39e972f84b98b7a466d44351affc",
            "placeholder": "​",
            "style": "IPY_MODEL_bb0244df2e214448b2a2779f19a50e47",
            "value": "Shuffling /root/tensorflow_datasets/mnist/incomplete.K9V6H9_3.0.1/mnist-test.tfrecord*...:   0%"
          }
        },
        "395b4b64f53d49c9b8c14f4086a6081f": {
          "model_module": "@jupyter-widgets/controls",
          "model_name": "FloatProgressModel",
          "model_module_version": "1.5.0",
          "state": {
            "_dom_classes": [],
            "_model_module": "@jupyter-widgets/controls",
            "_model_module_version": "1.5.0",
            "_model_name": "FloatProgressModel",
            "_view_count": null,
            "_view_module": "@jupyter-widgets/controls",
            "_view_module_version": "1.5.0",
            "_view_name": "ProgressView",
            "bar_style": "",
            "description": "",
            "description_tooltip": null,
            "layout": "IPY_MODEL_e3ccdf54da3a4fca87eb62cd51e87853",
            "max": 10000,
            "min": 0,
            "orientation": "horizontal",
            "style": "IPY_MODEL_d7662e53c3794d19bd8c2238f4da51bf",
            "value": 10000
          }
        },
        "fd38f3b6c86a4dd4b6bc93c72f79acd6": {
          "model_module": "@jupyter-widgets/controls",
          "model_name": "HTMLModel",
          "model_module_version": "1.5.0",
          "state": {
            "_dom_classes": [],
            "_model_module": "@jupyter-widgets/controls",
            "_model_module_version": "1.5.0",
            "_model_name": "HTMLModel",
            "_view_count": null,
            "_view_module": "@jupyter-widgets/controls",
            "_view_module_version": "1.5.0",
            "_view_name": "HTMLView",
            "description": "",
            "description_tooltip": null,
            "layout": "IPY_MODEL_6ff12c064a724a6aa8491b39b6e48ea9",
            "placeholder": "​",
            "style": "IPY_MODEL_6c0be38e163a4dea893d98b827870540",
            "value": " 0/10000 [00:00&lt;?, ? examples/s]"
          }
        },
        "e071dacceb174463b2901c91cbe14aa4": {
          "model_module": "@jupyter-widgets/base",
          "model_name": "LayoutModel",
          "model_module_version": "1.2.0",
          "state": {
            "_model_module": "@jupyter-widgets/base",
            "_model_module_version": "1.2.0",
            "_model_name": "LayoutModel",
            "_view_count": null,
            "_view_module": "@jupyter-widgets/base",
            "_view_module_version": "1.2.0",
            "_view_name": "LayoutView",
            "align_content": null,
            "align_items": null,
            "align_self": null,
            "border": null,
            "bottom": null,
            "display": null,
            "flex": null,
            "flex_flow": null,
            "grid_area": null,
            "grid_auto_columns": null,
            "grid_auto_flow": null,
            "grid_auto_rows": null,
            "grid_column": null,
            "grid_gap": null,
            "grid_row": null,
            "grid_template_areas": null,
            "grid_template_columns": null,
            "grid_template_rows": null,
            "height": null,
            "justify_content": null,
            "justify_items": null,
            "left": null,
            "margin": null,
            "max_height": null,
            "max_width": null,
            "min_height": null,
            "min_width": null,
            "object_fit": null,
            "object_position": null,
            "order": null,
            "overflow": null,
            "overflow_x": null,
            "overflow_y": null,
            "padding": null,
            "right": null,
            "top": null,
            "visibility": "hidden",
            "width": null
          }
        },
        "cd7f39e972f84b98b7a466d44351affc": {
          "model_module": "@jupyter-widgets/base",
          "model_name": "LayoutModel",
          "model_module_version": "1.2.0",
          "state": {
            "_model_module": "@jupyter-widgets/base",
            "_model_module_version": "1.2.0",
            "_model_name": "LayoutModel",
            "_view_count": null,
            "_view_module": "@jupyter-widgets/base",
            "_view_module_version": "1.2.0",
            "_view_name": "LayoutView",
            "align_content": null,
            "align_items": null,
            "align_self": null,
            "border": null,
            "bottom": null,
            "display": null,
            "flex": null,
            "flex_flow": null,
            "grid_area": null,
            "grid_auto_columns": null,
            "grid_auto_flow": null,
            "grid_auto_rows": null,
            "grid_column": null,
            "grid_gap": null,
            "grid_row": null,
            "grid_template_areas": null,
            "grid_template_columns": null,
            "grid_template_rows": null,
            "height": null,
            "justify_content": null,
            "justify_items": null,
            "left": null,
            "margin": null,
            "max_height": null,
            "max_width": null,
            "min_height": null,
            "min_width": null,
            "object_fit": null,
            "object_position": null,
            "order": null,
            "overflow": null,
            "overflow_x": null,
            "overflow_y": null,
            "padding": null,
            "right": null,
            "top": null,
            "visibility": null,
            "width": null
          }
        },
        "bb0244df2e214448b2a2779f19a50e47": {
          "model_module": "@jupyter-widgets/controls",
          "model_name": "DescriptionStyleModel",
          "model_module_version": "1.5.0",
          "state": {
            "_model_module": "@jupyter-widgets/controls",
            "_model_module_version": "1.5.0",
            "_model_name": "DescriptionStyleModel",
            "_view_count": null,
            "_view_module": "@jupyter-widgets/base",
            "_view_module_version": "1.2.0",
            "_view_name": "StyleView",
            "description_width": ""
          }
        },
        "e3ccdf54da3a4fca87eb62cd51e87853": {
          "model_module": "@jupyter-widgets/base",
          "model_name": "LayoutModel",
          "model_module_version": "1.2.0",
          "state": {
            "_model_module": "@jupyter-widgets/base",
            "_model_module_version": "1.2.0",
            "_model_name": "LayoutModel",
            "_view_count": null,
            "_view_module": "@jupyter-widgets/base",
            "_view_module_version": "1.2.0",
            "_view_name": "LayoutView",
            "align_content": null,
            "align_items": null,
            "align_self": null,
            "border": null,
            "bottom": null,
            "display": null,
            "flex": null,
            "flex_flow": null,
            "grid_area": null,
            "grid_auto_columns": null,
            "grid_auto_flow": null,
            "grid_auto_rows": null,
            "grid_column": null,
            "grid_gap": null,
            "grid_row": null,
            "grid_template_areas": null,
            "grid_template_columns": null,
            "grid_template_rows": null,
            "height": null,
            "justify_content": null,
            "justify_items": null,
            "left": null,
            "margin": null,
            "max_height": null,
            "max_width": null,
            "min_height": null,
            "min_width": null,
            "object_fit": null,
            "object_position": null,
            "order": null,
            "overflow": null,
            "overflow_x": null,
            "overflow_y": null,
            "padding": null,
            "right": null,
            "top": null,
            "visibility": null,
            "width": null
          }
        },
        "d7662e53c3794d19bd8c2238f4da51bf": {
          "model_module": "@jupyter-widgets/controls",
          "model_name": "ProgressStyleModel",
          "model_module_version": "1.5.0",
          "state": {
            "_model_module": "@jupyter-widgets/controls",
            "_model_module_version": "1.5.0",
            "_model_name": "ProgressStyleModel",
            "_view_count": null,
            "_view_module": "@jupyter-widgets/base",
            "_view_module_version": "1.2.0",
            "_view_name": "StyleView",
            "bar_color": null,
            "description_width": ""
          }
        },
        "6ff12c064a724a6aa8491b39b6e48ea9": {
          "model_module": "@jupyter-widgets/base",
          "model_name": "LayoutModel",
          "model_module_version": "1.2.0",
          "state": {
            "_model_module": "@jupyter-widgets/base",
            "_model_module_version": "1.2.0",
            "_model_name": "LayoutModel",
            "_view_count": null,
            "_view_module": "@jupyter-widgets/base",
            "_view_module_version": "1.2.0",
            "_view_name": "LayoutView",
            "align_content": null,
            "align_items": null,
            "align_self": null,
            "border": null,
            "bottom": null,
            "display": null,
            "flex": null,
            "flex_flow": null,
            "grid_area": null,
            "grid_auto_columns": null,
            "grid_auto_flow": null,
            "grid_auto_rows": null,
            "grid_column": null,
            "grid_gap": null,
            "grid_row": null,
            "grid_template_areas": null,
            "grid_template_columns": null,
            "grid_template_rows": null,
            "height": null,
            "justify_content": null,
            "justify_items": null,
            "left": null,
            "margin": null,
            "max_height": null,
            "max_width": null,
            "min_height": null,
            "min_width": null,
            "object_fit": null,
            "object_position": null,
            "order": null,
            "overflow": null,
            "overflow_x": null,
            "overflow_y": null,
            "padding": null,
            "right": null,
            "top": null,
            "visibility": null,
            "width": null
          }
        },
        "6c0be38e163a4dea893d98b827870540": {
          "model_module": "@jupyter-widgets/controls",
          "model_name": "DescriptionStyleModel",
          "model_module_version": "1.5.0",
          "state": {
            "_model_module": "@jupyter-widgets/controls",
            "_model_module_version": "1.5.0",
            "_model_name": "DescriptionStyleModel",
            "_view_count": null,
            "_view_module": "@jupyter-widgets/base",
            "_view_module_version": "1.2.0",
            "_view_name": "StyleView",
            "description_width": ""
          }
        }
      }
    }
  },
  "nbformat": 4,
  "nbformat_minor": 5
}